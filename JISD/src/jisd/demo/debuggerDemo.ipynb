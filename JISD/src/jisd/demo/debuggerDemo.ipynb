{
 "cells": [
  {
   "cell_type": "code",
   "execution_count": 2,
   "metadata": {},
   "outputs": [],
   "source": [
    "import java.util.ArrayList;\n",
    "\n",
    "import Debugger;\n",
    "import DebugResult;"
   ]
  },
  {
   "cell_type": "code",
   "execution_count": 3,
   "metadata": {},
   "outputs": [
    {
     "name": "stdout",
     "output_type": "stream",
     "text": [
      ">> breakpoint: s in demo.HelloWorld.main(java.lang.String[])@demo.HelloWorld:32 : \"hello\", a in demo.HelloWorld.main(java.lang.String[])@demo.HelloWorld:30 : 1, args in demo.HelloWorld.main(java.lang.String[])@demo.HelloWorld:29 : instance of java.lang.String[0] (id=68), .\n",
      "1Hello, World\n",
      "helloHello, World\n",
      ">> breakpoint: s in demo.HelloWorld.main(java.lang.String[])@demo.HelloWorld:32 : \"hello\", a in demo.HelloWorld.main(java.lang.String[])@demo.HelloWorld:30 : 2, hello in demo.HelloWorld.main(java.lang.String[])@demo.HelloWorld:33 : instance of demo.HelloWorld(id=75), args in demo.HelloWorld.main(java.lang.String[])@demo.HelloWorld:29 : instance of java.lang.String[0] (id=68), .\n",
      "Hello, Barney\n",
      "Hello, Barney\n",
      "Hello, Fred and Wilma\n",
      "Hello, Fred and Wilma\n",
      "-----------------------------\n",
      "32\n",
      "java.lang.String\n",
      "s\n",
      "\"hello\"\n",
      "-----------------------------\n",
      "32\n",
      "int\n",
      "a\n",
      "1\n",
      "-----------------------------\n",
      "32\n",
      "java.lang.String[]\n",
      "args\n",
      "instance of java.lang.String[0] (id=68)\n",
      "-----------------------------\n",
      "36\n",
      "java.lang.String\n",
      "s\n",
      "\"hello\"\n",
      "-----------------------------\n",
      "36\n",
      "int\n",
      "a\n",
      "2\n",
      "-----------------------------\n",
      "36\n",
      "demo.HelloWorld\n",
      "hello\n",
      "instance of demo.HelloWorld(id=75)\n",
      "-----------------------------\n",
      "36\n",
      "java.lang.String[]\n",
      "args\n",
      "instance of java.lang.String[0] (id=68)\n"
     ]
    }
   ],
   "source": [
    "Debugger dbg = new Debugger(\"demo.HelloWorld\", \"-cp ../../bin\");\n",
    "dbg.setBreakPoint(32);\n",
    "dbg.setBreakPoint(36);\n",
    "dbg.run(1000);\n",
    "ArrayList<DebugResult> results = dbg.getResult();\n",
    "results.forEach(res -> {\n",
    "    System.out.println(\"-----------------------------\");\n",
    "    System.out.println(res.getLineNumber());\n",
    "    System.out.println(res.getClassOfResult());\n",
    "    System.out.println(res.getName());\n",
    "    System.out.println(res.getValue());\n",
    "});"
   ]
  },
  {
   "cell_type": "code",
   "execution_count": null,
   "metadata": {},
   "outputs": [],
   "source": []
  }
 ],
 "metadata": {
  "kernelspec": {
   "display_name": "Java",
   "language": "java",
   "name": "java"
  },
  "language_info": {
   "codemirror_mode": "java",
   "file_extension": ".jshell",
   "mimetype": "text/x-java-source",
   "name": "Java",
   "pygments_lexer": "java",
   "version": "11.0.8+10-post-Debian-1deb10u1"
  }
 },
 "nbformat": 4,
 "nbformat_minor": 4
}
