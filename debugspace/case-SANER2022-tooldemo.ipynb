{
 "cells": [
  {
   "cell_type": "markdown",
   "metadata": {},
   "source": [
    "## Experimental Environment Set Up\n",
    "1. Clone https://github.com/tklab-group/tomcat-jisdlab-demo (commit 639f7da)\n",
    "1. Set the absolute path of apache-tomcat-9.0.41 to the environment variable `CATALINA_HOME`.\n",
    "1. Run `gradlew.bat`\n",
    "1. Run `gradle war`\n",
    "1. Confirm that TomcatDemo-0.0.2.war has been created in apache-tomcat-9.0.41/webapps.\n",
    "\n",
    "1. Set up JISDLab on Windows (please see https://tklab-group.github.io/JISDLab/contents/en/installation/index.html. \\<your classpath\\> is `%JISDLAB_HOME%/sample`)\n",
    "1. Run `jupyter lab` in the JISDLab directory\n",
    "1. Run the following in PowerShell\n",
    "   ```sh\n",
    "   $env:PROBEJ_PORT=39876; cmd.exe /c %CATALINA_HOME%/bin/catalina.bat probej start\n",
    "   ```"
   ]
  },
  {
   "cell_type": "markdown",
   "metadata": {
    "tags": []
   },
   "source": [
    "# Case: Identifying bottlenecks"
   ]
  },
  {
   "cell_type": "code",
   "execution_count": 1,
   "metadata": {},
   "outputs": [],
   "source": [
    "var dbg = new Debugger(\"localhost\", 39876, true); // Using ProbeJ"
   ]
  },
  {
   "cell_type": "markdown",
   "metadata": {},
   "source": [
    "### Set up observation points at the boundary of each section"
   ]
  },
  {
   "cell_type": "code",
   "execution_count": 2,
   "metadata": {},
   "outputs": [
    {
     "name": "stdout",
     "output_type": "stream",
     "text": [
      "Try to connect to localhost:39876\n",
      "Succeccfully connected to localhost:39876\n",
      ">> Debugger Info: Debugger started.\n"
     ]
    }
   ],
   "source": [
    "dbg.run();\n",
    "String[] vars = {\"noOfViews\"};\n",
    "List<Integer> lines = List.of(20, 22, 24, 26, 28);\n",
    "var points = lines.stream()\n",
    "                  .map(line -> dbg.watch(\"tomcatdemo.App\", line, vars).get())\n",
    "                  .collect(Collectors.toList());"
   ]
  },
  {
   "cell_type": "markdown",
   "metadata": {},
   "source": [
    "Visit http://localhost:8080/TomcatDemo-0.0.2/home 15 times (Please wait for the page to refresh before accessing it)．"
   ]
  },
  {
   "cell_type": "markdown",
   "metadata": {},
   "source": [
    "### Display of observation results(n=15)"
   ]
  },
  {
   "cell_type": "code",
   "execution_count": 3,
   "metadata": {},
   "outputs": [
    {
     "name": "stdout",
     "output_type": "stream",
     "text": [
      "value\t:\ttimestamp\n",
      "15\t:\t2021-11-18T19:39:08.347\n",
      "value\t:\ttimestamp\n",
      "15\t:\t2021-11-18T19:39:08.667\n",
      "value\t:\ttimestamp\n",
      "15\t:\t2021-11-18T19:39:08.725\n",
      "value\t:\ttimestamp\n",
      "15\t:\t2021-11-18T19:39:10.720\n",
      "value\t:\ttimestamp\n",
      "15\t:\t2021-11-18T19:39:10.927\n"
     ]
    }
   ],
   "source": [
    "var values =  new ArrayList<ValueInfo>();\n",
    "points.forEach(p -> {\n",
    "  var dr = p.getResults().get(vars[0]);\n",
    "  var latestValue = dr.getLatestValue();\n",
    "  values.add(latestValue);\n",
    "  println(\"value\\t:\\ttimestamp\");\n",
    "  println(latestValue.getValue()+\"\\t:\\t\"+latestValue.getCreatedAt());\n",
    "})"
   ]
  },
  {
   "cell_type": "markdown",
   "metadata": {},
   "source": [
    "### Visualization of processing time for each section"
   ]
  },
  {
   "cell_type": "code",
   "execution_count": 4,
   "metadata": {},
   "outputs": [
    {
     "data": {
      "image/png": "[encoded data removed]",
      "text/plain": [
       "BufferedImage@6736a951: type = 2 DirectColorModel: rmask=ff0000 gmask=ff00 bmask=ff amask=ff000000 IntegerInterleavedRaster: width = 400 height = 300 #Bands = 4 xOff = 0 yOff = 0 dataOffset[0] 0"
      ]
     },
     "execution_count": 4,
     "metadata": {},
     "output_type": "execute_result"
    }
   ],
   "source": [
    "import java.time.LocalDateTime;\n",
    "import java.time.temporal.ChronoUnit;\n",
    "import org.knowm.xchart.style.BoxStyler.BoxplotCalCulationMethod;\n",
    "// the number of access \n",
    "int maxSize = points.get(0).getResults().get(vars[0]).getValues().size();\n",
    "// create chart\n",
    "BoxChart chart = new BoxChartBuilder().width(400).height(300).title(\"Performance Box Plot\")\n",
    "                                      .xAxisTitle(\"Section\").yAxisTitle(\"Time [msec]\").build();\n",
    "for (int i = 0; i < 4; i++) {\n",
    "    List<Double> list = new ArrayList<>();\n",
    "    var vs0 = points.get(i).getResults().get(vars[0]).getValues(); // get a start probe point \n",
    "    var vs1 = points.get(i+1).getResults().get(vars[0]).getValues(); // get a end probe point\n",
    "    for (int j = 0; j < maxSize; j++) {\n",
    "        var v0 = vs0.get(j); // get values at the start probe point\n",
    "        var v1 = vs1.get(j); // get values at the end probe point\n",
    "        Long diff = ChronoUnit.MILLIS.between(v0.getCreatedAt(), v1.getCreatedAt()); // get time diff\n",
    "        list.add(Double.valueOf(diff));\n",
    "    }\n",
    "    // series\n",
    "    chart.addSeries(\"Section \"+(i+1), list);\n",
    "}\n",
    "\n",
    "// choose a calculation method\n",
    "chart.getStyler().setBoxplotCalCulationMethod(BoxplotCalCulationMethod.N_LESS_1_PLUS_1);\n",
    "chart.getStyler().setToolTipsEnabled(true);\n",
    "BitmapEncoder.getBufferedImage(chart);"
   ]
  },
  {
   "cell_type": "markdown",
   "metadata": {},
   "source": [
    "### Survey results\n",
    "- The bug is in **Section 3** "
   ]
  },
  {
   "cell_type": "code",
   "execution_count": 5,
   "metadata": {},
   "outputs": [
    {
     "name": "stdout",
     "output_type": "stream",
     "text": [
      ">> Debugger Info: Debugger exited.\n"
     ]
    }
   ],
   "source": [
    "dbg.exit();"
   ]
  }
 ],
 "metadata": {
  "kernelspec": {
   "display_name": "Java",
   "language": "java",
   "name": "java"
  },
  "language_info": {
   "codemirror_mode": "java",
   "file_extension": ".jshell",
   "mimetype": "text/x-java-source",
   "name": "Java",
   "pygments_lexer": "java",
   "version": "11.0.8+10-LTS"
  }
 },
 "nbformat": 4,
 "nbformat_minor": 4
}
