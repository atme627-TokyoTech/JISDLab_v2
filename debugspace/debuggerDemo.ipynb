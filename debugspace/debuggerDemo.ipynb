{
 "cells": [
  {
   "cell_type": "code",
   "execution_count": 1,
   "metadata": {},
   "outputs": [],
   "source": [
    "import java.util.ArrayList;\n",
    "\n",
    "import debug.Debugger;\n",
    "import debug.DebugResult;"
   ]
  },
  {
   "cell_type": "code",
   "execution_count": 2,
   "metadata": {},
   "outputs": [
    {
     "name": "stdout",
     "output_type": "stream",
     "text": [
      ">> Debugger Info: VM started.\n",
      ">> Debugger Info: Breakpoint hit, line=28\n",
      "Hello, Bob\n",
      ">> Debugger Info: Breakpoint hit, line=30\n",
      "Hello, Alice\n",
      ">> Debugger Info: VM exited.\n",
      "-----------------------------\n",
      "28\n",
      "demo.HelloWorld\n",
      "hello\n",
      "instance of demo.HelloWorld(id=70)\n",
      "-----------------------------\n",
      "28\n",
      "java.lang.String[]\n",
      "args\n",
      "instance of java.lang.String[0] (id=68)\n",
      "-----------------------------\n",
      "28\n",
      "java.lang.String\n",
      "me\n",
      "\"Alice\"\n",
      "-----------------------------\n",
      "28\n",
      "int\n",
      "a\n",
      "1\n",
      "-----------------------------\n",
      "30\n",
      "demo.HelloWorld\n",
      "hello\n",
      "instance of demo.HelloWorld(id=70)\n",
      "-----------------------------\n",
      "30\n",
      "java.lang.String[]\n",
      "args\n",
      "instance of java.lang.String[0] (id=68)\n",
      "-----------------------------\n",
      "30\n",
      "java.lang.String\n",
      "me\n",
      "\"Alice\"\n",
      "-----------------------------\n",
      "30\n",
      "int\n",
      "a\n",
      "2\n"
     ]
    }
   ],
   "source": [
    "Debugger dbg = new Debugger(\"demo.HelloWorld\", \"-cp ../sample\");\n",
    "dbg.setBreakPoint(28);\n",
    "dbg.setBreakPoint(30);\n",
    "dbg.run(1000);\n",
    "dbg.exit();\n",
    "ArrayList<DebugResult> results = dbg.getResults();\n",
    "results.forEach(res -> {\n",
    "    System.out.println(\"-----------------------------\");\n",
    "    System.out.println(res.getLineNumber());\n",
    "    System.out.println(res.getClassOfResult());\n",
    "    System.out.println(res.getName());\n",
    "    System.out.println(res.getValue());\n",
    "});"
   ]
  },
  {
   "cell_type": "code",
   "execution_count": 3,
   "metadata": {},
   "outputs": [],
   "source": [
    "%maven org.knowm.xchart:xchart:3.6.5"
   ]
  },
  {
   "cell_type": "code",
   "execution_count": 10,
   "metadata": {},
   "outputs": [
    {
     "ename": "CompilationException",
     "evalue": "",
     "output_type": "error",
     "traceback": [
      "\u001b[1m\u001b[30m|   \u001b[1m\u001b[30m    if (i >= lineA1 && i < \u001b[0m\u001b[1m\u001b[30m\u001b[41mlineA2\u001b[0m\u001b[1m\u001b[30m) {\u001b[0m",
      "\u001b[1m\u001b[31mcannot find symbol\u001b[0m",
      "\u001b[1m\u001b[31m  symbol:   variable lineA2\u001b[0m",
      "",
      "\u001b[1m\u001b[30m|   \u001b[1m\u001b[30m    } else if (i >= \u001b[0m\u001b[1m\u001b[30m\u001b[41mlineA2\u001b[0m\u001b[1m\u001b[30m) {\u001b[0m",
      "\u001b[1m\u001b[31mcannot find symbol\u001b[0m",
      "\u001b[1m\u001b[31m  symbol:   variable lineA2\u001b[0m",
      ""
     ]
    }
   ],
   "source": [
    "import org.knowm.xchart.*;\n",
    "ArrayList<Double> x = new ArrayList<>();\n",
    "ArrayList<Double> y = new ArrayList<>();\n",
    "DebugResult[] valueA = results.stream()\n",
    "                              .filter(r -> r.getName().equals(\"a\"))\n",
    "                              .toArray(DebugResult[]::new);\n",
    "double valueA1 = Double.parseDouble(valueA[0].getValue());\n",
    "double valueA2 = Double.parseDouble(valueA[1].getValue());\n",
    "double lineA1 = valueA[0].getLineNumber();\n",
    "double lineA2 = valueA[1].getLineNumber();\n",
    "for (double i = lineA1; i < 50.0; i += 0.1) {\n",
    "    x.add(i);\n",
    "    if (i >= lineA1 && i < lineA2) {\n",
    "        y.add(valueA1);\n",
    "    } else if (i >= lineA2) {\n",
    "        y.add(valueA2);\n",
    "    } else {\n",
    "        y.add(0.0);\n",
    "    }\n",
    "}\n",
    "XYChart chart = QuickChart.getChart(\"Sample\", \"x\", \"y\", \"a\", x, y);\n",
    "chart.getStyler().setXAxisMin(0.0);\n",
    "chart.getStyler().setXAxisMax(50.0);\n",
    "BitmapEncoder.getBufferedImage(chart);"
   ]
  },
  {
   "cell_type": "code",
   "execution_count": null,
   "metadata": {},
   "outputs": [],
   "source": []
  }
 ],
 "metadata": {
  "kernelspec": {
   "display_name": "Java",
   "language": "java",
   "name": "java"
  },
  "language_info": {
   "codemirror_mode": "java",
   "file_extension": ".jshell",
   "mimetype": "text/x-java-source",
   "name": "Java",
   "pygments_lexer": "java",
   "version": "11.0.8+10-post-Debian-1deb10u1"
  }
 },
 "nbformat": 4,
 "nbformat_minor": 4
}
