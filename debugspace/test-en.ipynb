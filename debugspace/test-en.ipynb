{
 "cells": [
  {
   "cell_type": "markdown",
   "metadata": {},
   "source": [
    "# Case1: Contents of the HTTP request"
   ]
  },
  {
   "cell_type": "code",
   "execution_count": 36,
   "metadata": {},
   "outputs": [
    {
     "name": "stdout",
     "output_type": "stream",
     "text": [
      ">> Debugger Info: Try to connect to localhost:25432\n",
      ">> Debugger Info: Successflly connected to localhost:25432\n"
     ]
    }
   ],
   "source": [
    "var dbg = new Debugger(\"localhost\", 25432);  // Using JDI"
   ]
  },
  {
   "cell_type": "code",
   "execution_count": 37,
   "metadata": {},
   "outputs": [
    {
     "name": "stdout",
     "output_type": "stream",
     "text": [
      ">> Debugger Info: Debugger started.\n"
     ]
    }
   ],
   "source": [
    "dbg.run();\n",
    "Point p = dbg.stopAt(\"tomcatdemo.App\", 18).get(); // Stop at line 18"
   ]
  },
  {
   "cell_type": "markdown",
   "metadata": {},
   "source": [
    "Visit http://localhost:8080/TomcatDemo-0.0.1/home once from Google Chrome"
   ]
  },
  {
   "cell_type": "code",
   "execution_count": 21,
   "metadata": {},
   "outputs": [],
   "source": [
    "DebugResult dr = p.getResults().get(\"req\");\n",
    "var req = (ObjectInfo) dr.getLatestValue(); // Get the value of the variable req"
   ]
  },
  {
   "cell_type": "code",
   "execution_count": 22,
   "metadata": {},
   "outputs": [
    {
     "data": {
      "text/plain": [
       "return of getMethod=\"GET\"\n"
      ]
     },
     "execution_count": 22,
     "metadata": {},
     "output_type": "execute_result"
    }
   ],
   "source": [
    "req.invokeMethod(dbg.thread(), \"getMethod\");  // HTTP method"
   ]
  },
  {
   "cell_type": "code",
   "execution_count": 23,
   "metadata": {},
   "outputs": [
    {
     "data": {
      "text/plain": [
       "return of getRequestURI=\"/TomcatDemo-0.0.1/home\"\n"
      ]
     },
     "execution_count": 23,
     "metadata": {},
     "output_type": "execute_result"
    }
   ],
   "source": [
    "req.invokeMethod(dbg.thread(), \"getRequestURI\"); // Request URI"
   ]
  },
  {
   "cell_type": "code",
   "execution_count": 24,
   "metadata": {},
   "outputs": [
    {
     "data": {
      "text/plain": [
       "return of getHeader=\"Mozilla/5.0 (Windows NT 10.0; Win64; x64) AppleWebKit/537.36 (KHTML, like Gecko) Chrome/94.0.4606.71 Safari/537.36\"\n"
      ]
     },
     "execution_count": 24,
     "metadata": {},
     "output_type": "execute_result"
    }
   ],
   "source": [
    "req.invokeMethod(dbg.thread(), \"getHeader\", \"User-Agent\"); // User-Agent header"
   ]
  },
  {
   "cell_type": "markdown",
   "metadata": {},
   "source": [
    "# Case2: Identifying bottlenecks"
   ]
  },
  {
   "cell_type": "code",
   "execution_count": 1,
   "metadata": {},
   "outputs": [],
   "source": [
    "var dbg = new Debugger(\"localhost\", 39876, true); // Using ProbeJ"
   ]
  },
  {
   "cell_type": "markdown",
   "metadata": {},
   "source": [
    "### Set up observation points at the boundary of each section"
   ]
  },
  {
   "cell_type": "code",
   "execution_count": 2,
   "metadata": {},
   "outputs": [
    {
     "name": "stdout",
     "output_type": "stream",
     "text": [
      "Try to connect to localhost:39876\n",
      "Succeccfully connected to localhost:39876\n",
      ">> Debugger Info: Debugger started.\n"
     ]
    }
   ],
   "source": [
    "dbg.run();\n",
    "String[] vars = {\"noOfViews\"};\n",
    "List<Integer> lines = List.of(20, 22, 24, 26, 28);\n",
    "var points = lines.stream()\n",
    "                  .map(line -> dbg.watch(\"tomcatdemo.App\", line, vars).get())\n",
    "                  .collect(Collectors.toList());"
   ]
  },
  {
   "cell_type": "markdown",
   "metadata": {},
   "source": [
    "Visit http://localhost:8080/TomcatDemo-0.0.1/home once"
   ]
  },
  {
   "cell_type": "markdown",
   "metadata": {},
   "source": [
    "### Display of observation results"
   ]
  },
  {
   "cell_type": "code",
   "execution_count": 3,
   "metadata": {},
   "outputs": [
    {
     "name": "stdout",
     "output_type": "stream",
     "text": [
      "value\t:\ttimestamp\n",
      "10\t:\t2021-11-17T20:13:49.897\n",
      "value\t:\ttimestamp\n",
      "10\t:\t2021-11-17T20:13:50.219\n",
      "value\t:\ttimestamp\n",
      "10\t:\t2021-11-17T20:13:50.307\n",
      "value\t:\ttimestamp\n",
      "10\t:\t2021-11-17T20:13:50.627\n",
      "value\t:\ttimestamp\n",
      "10\t:\t2021-11-17T20:13:50.835\n"
     ]
    }
   ],
   "source": [
    "var values =  new ArrayList<ValueInfo>();\n",
    "points.forEach(p -> {\n",
    "  var dr = p.getResults().get(vars[0]);\n",
    "  var latestValue = dr.getLatestValue();\n",
    "  values.add(latestValue);\n",
    "  println(\"value\\t:\\ttimestamp\");\n",
    "  println(latestValue.getValue()+\"\\t:\\t\"+latestValue.getCreatedAt());\n",
    "})"
   ]
  },
  {
   "cell_type": "markdown",
   "metadata": {},
   "source": [
    "### Visualization of processing time for each section"
   ]
  },
  {
   "cell_type": "code",
   "execution_count": 4,
   "metadata": {},
   "outputs": [
    {
     "name": "stdout",
     "output_type": "stream",
     "text": [
      "322.0\n",
      "88.0\n",
      "320.0\n",
      "208.0\n"
     ]
    },
    {
     "data": {
      "image/png": "[encoded data removed]",
      "text/plain": [
       "BufferedImage@1e2e62c1: type = 2 DirectColorModel: rmask=ff0000 gmask=ff00 bmask=ff amask=ff000000 IntegerInterleavedRaster: width = 400 height = 300 #Bands = 4 xOff = 0 yOff = 0 dataOffset[0] 0"
      ]
     },
     "execution_count": 4,
     "metadata": {},
     "output_type": "execute_result"
    }
   ],
   "source": [
    "import java.time.temporal.ChronoUnit;\n",
    "\n",
    "var x = new ArrayList<Double>();\n",
    "var y = new ArrayList<Double>();\n",
    "\n",
    "// Formatting data\n",
    "for (int i = 0; i < values.size()-1; i++) {\n",
    "  x.add((double) i+1);\n",
    "  y.add((double) (ChronoUnit.MILLIS.between(values.get(i).getCreatedAt(), values.get(i+1).getCreatedAt())));\n",
    "  println(y.get(i));\n",
    "}\n",
    "\n",
    "// Generating a diagram\n",
    "CategoryChart chart = new CategoryChartBuilder().width(400).height(300).title(\"Performance Histogram\")\n",
    "                                                .xAxisTitle(\"Section\").yAxisTitle(\"Time [msec]\").build();\n",
    "// Series\n",
    "chart.addSeries(\"/home\", x, y);\n",
    "BitmapEncoder.getBufferedImage(chart);"
   ]
  },
  {
   "cell_type": "markdown",
   "metadata": {},
   "source": [
    "### Survey results\n",
    "- The bottleneck is **Section 3** "
   ]
  },
  {
   "cell_type": "code",
   "execution_count": 6,
   "metadata": {},
   "outputs": [
    {
     "name": "stdout",
     "output_type": "stream",
     "text": [
      ">> Debugger Info: Debugger exited.\n"
     ]
    }
   ],
   "source": [
    "dbg.exit();"
   ]
  },
  {
   "cell_type": "markdown",
   "metadata": {
    "tags": []
   },
   "source": [
    "## Visualization by Grafana"
   ]
  },
  {
   "cell_type": "code",
   "execution_count": 33,
   "metadata": {},
   "outputs": [
    {
     "data": {
      "image/png": "[encoded data removed]",
      "text/plain": [
       "BufferedImage@1a7085fd: type = 2 DirectColorModel: rmask=ff0000 gmask=ff00 bmask=ff amask=ff000000 IntegerInterleavedRaster: width = 400 height = 300 #Bands = 4 xOff = 0 yOff = 0 dataOffset[0] 0"
      ]
     },
     "execution_count": 33,
     "metadata": {},
     "output_type": "execute_result"
    }
   ],
   "source": [
    "import java.time.LocalDateTime;\n",
    "import java.time.temporal.ChronoUnit;\n",
    "int maxSize = points.get(0).getResults().get(vars[0]).getValues().size();\n",
    "var dataset = new DefaultBoxAndWhiskerCategoryDataset();\n",
    "for (int i = 0; i < 4; i++) {\n",
    "    List<Double> list = new ArrayList<>();\n",
    "    var vs0 = points.get(i).getResults().get(vars[0]).getValues(); // get a start probe point \n",
    "    var vs1 = points.get(i+1).getResults().get(vars[0]).getValues(); // get a end probe point\n",
    "    for (int j = 0; j < maxSize; j++) {\n",
    "        var v0 = vs0.get(j); // get values at the start probe point\n",
    "        var v1 = vs1.get(j); // get values at the end probe point\n",
    "        Long diff = ChronoUnit.MILLIS.between(v0.getCreatedAt(), v1.getCreatedAt()); // get time diff\n",
    "        list.add(Double.valueOf(diff));\n",
    "    }\n",
    "    //BoxAndWhiskerItem item = BoxAndWhiskerCalculator.calculateBoxAndWhiskerStatistics(list);\n",
    "    //var data = new BoxAndWhiskerItem(item.getMean(), item.getMedian(), item.getQ1(), item.getQ3(), item.getMinRegularValue(), item.getMaxRegularValue(), item.getMinOutlier(), item.getMaxOutlier(), item.getOutliers());\n",
    "//     list.forEach(it->{\n",
    "//         println(it);\n",
    "//     });\n",
    "//     item.getOutliers().forEach(it-> {\n",
    "//        println(it); \n",
    "//     });\n",
    "//     println(\"min:\"+item.getMinOutlier());\n",
    "//     println(\"max:\"+item.getMaxOutlier());\n",
    "    dataset.add(list, \"Section \" + (i+1), \"\");\n",
    "}\n",
    "\n",
    "var xAxis = new CategoryAxis(\"Section\");\n",
    "var yAxis = new NumberAxis(\"Time[msec]\");\n",
    "//yAxis.setAutoRangeIncludesZero(false);\n",
    "yAxis.setRange(0, 500);\n",
    "BoxAndWhiskerRenderer renderer = new BoxAndWhiskerRenderer();\n",
    "renderer.setFillBox(true);\n",
    "renderer.setMeanVisible(false);\n",
    "renderer.setMedianVisible(true);\n",
    "CategoryPlot plot = new CategoryPlot(dataset, xAxis, yAxis, renderer);\n",
    "JFreeChart chart = new JFreeChart(\n",
    "    \"Performance Box Plot\",\n",
    "    new Font(\"SansSerif\", Font.BOLD, 14),\n",
    "    plot,\n",
    "    true\n",
    ");\n",
    "chart.createBufferedImage(400, 300)"
   ]
  },
  {
   "cell_type": "code",
   "execution_count": 37,
   "metadata": {},
   "outputs": [
    {
     "data": {
      "image/png": "[encoded data removed]",
      "text/plain": [
       "BufferedImage@7f6022ee: type = 2 DirectColorModel: rmask=ff0000 gmask=ff00 bmask=ff amask=ff000000 IntegerInterleavedRaster: width = 800 height = 600 #Bands = 4 xOff = 0 yOff = 0 dataOffset[0] 0"
      ]
     },
     "execution_count": 37,
     "metadata": {},
     "output_type": "execute_result"
    }
   ],
   "source": [
    "import java.time.LocalDateTime;\n",
    "import java.time.temporal.ChronoUnit;\n",
    "import org.knowm.xchart.style.BoxStyler.BoxplotCalCulationMethod;\n",
    "// the number of access \n",
    "int maxSize = points.get(0).getResults().get(vars[0]).getValues().size();\n",
    "// create chart\n",
    "BoxChart chart = new BoxChartBuilder().title(\"Performance Box Plot\").xAxisTitle(\"Section\").yAxisTitle(\"Time [msec]\").build();\n",
    "for (int i = 0; i < 4; i++) {\n",
    "    List<Double> list = new ArrayList<>();\n",
    "    var vs0 = points.get(i).getResults().get(vars[0]).getValues(); // get a start probe point \n",
    "    var vs1 = points.get(i+1).getResults().get(vars[0]).getValues(); // get a end probe point\n",
    "    for (int j = 0; j < maxSize; j++) {\n",
    "        var v0 = vs0.get(j); // get values at the start probe point\n",
    "        var v1 = vs1.get(j); // get values at the end probe point\n",
    "        Long diff = ChronoUnit.MILLIS.between(v0.getCreatedAt(), v1.getCreatedAt()); // get time diff\n",
    "        list.add(Double.valueOf(diff));\n",
    "    }\n",
    "    // Series\n",
    "    chart.addSeries(\"Section \"+(i+1), list);\n",
    "}\n",
    "\n",
    "// choose a calculation method\n",
    "chart.getStyler().setBoxplotCalCulationMethod(BoxplotCalCulationMethod.N_LESS_1_PLUS_1);\n",
    "chart.getStyler().setToolTipsEnabled(true);\n",
    "BitmapEncoder.getBufferedImage(chart);"
   ]
  },
  {
   "cell_type": "code",
   "execution_count": 20,
   "metadata": {},
   "outputs": [
    {
     "data": {
      "text/plain": [
       "10"
      ]
     },
     "execution_count": 20,
     "metadata": {},
     "output_type": "execute_result"
    }
   ],
   "source": [
    "maxSize"
   ]
  },
  {
   "cell_type": "code",
   "execution_count": 10,
   "metadata": {},
   "outputs": [],
   "source": [
    "// Elasticsearch用のExporterを作成\n",
    "var esExporter = new ElasticsearchExporter(\"http://localhost\", 9200, \"sample\", \"09:00\");"
   ]
  },
  {
   "cell_type": "code",
   "execution_count": null,
   "metadata": {},
   "outputs": [],
   "source": [
    "for (int i = 0; i < values.size(); i++) {\n",
    "  var value = values[i];　// 観測情報の取り出し\n",
    "  var section = String.valueOf(i%5 + 1); // セクションの割り振り\n",
    "  // データ整形　ValueInfoFactory.create(name, stratum, jValue, value, dateTime)\n",
    "  var vi = ValueInfoFactory.create(\"noOfViews\", 0, null, section, value.getCreatedAt());\n",
    "  esExporter.update(vi); // データ登録\n",
    "}"
   ]
  },
  {
   "cell_type": "code",
   "execution_count": 15,
   "metadata": {},
   "outputs": [],
   "source": [
    "esExporter.postJson();　// データ送信"
   ]
  },
  {
   "cell_type": "code",
   "execution_count": 18,
   "metadata": {},
   "outputs": [],
   "source": [
    "esExporter.stop();"
   ]
  },
  {
   "cell_type": "code",
   "execution_count": 13,
   "metadata": {
    "tags": []
   },
   "outputs": [
    {
     "data": {
      "text/plain": [
       "0"
      ]
     },
     "execution_count": 13,
     "metadata": {},
     "output_type": "execute_result"
    }
   ],
   "source": [
    "import java.time.LocalDateTime;\n",
    "var vi = ValueInfoFactory.create(\"sample\", 0, null, \"1\", LocalDateTime.now());\n",
    "esExporter.update(vi);"
   ]
  },
  {
   "cell_type": "code",
   "execution_count": 22,
   "metadata": {},
   "outputs": [
    {
     "ename": "CompilationException",
     "evalue": "",
     "output_type": "error",
     "traceback": [
      "\u001b[1m\u001b[30m|   \u001b[1m\u001b[30mvar values = \u001b[0m\u001b[1m\u001b[30m\u001b[41mp\u001b[0m\u001b[1m\u001b[30m.getResults().entrySet().stream().map(e->e.getValue().getLatestValue()).collect(Collectors.toList());\u001b[0m",
      "\u001b[1m\u001b[31mシンボルを見つけられません\u001b[0m",
      "\u001b[1m\u001b[31m  シンボル:   変数 p\u001b[0m",
      "\u001b[1m\u001b[31m  場所: クラス \u001b[0m",
      ""
     ]
    }
   ],
   "source": [
    "var values = p.getResults().entrySet().stream().map(e->e.getValue().getLatestValue()).collect(Collectors.toList());"
   ]
  },
  {
   "cell_type": "code",
   "execution_count": null,
   "metadata": {},
   "outputs": [],
   "source": [
    "import java.time.LocalDateTime;\n",
    "import java.time.temporal.ChronoUnit;\n",
    "esExporter.setSuppressError(true);\n",
    "int maxSize = points.get(0).getResults().get(vars[0]).getValues().size();\n",
    "for (int i = 0; i < maxSize; i++) {\n",
    "  for (int codePoint = 0; codePoint < points.size()-1; codePoint++) {\n",
    "    var p0 = points.get(codePoint); // get a start probe point \n",
    "    var p1 = points.get(codePoint+1); // get a end probe point\n",
    "    var v0 = p0.getResults().get(vars[0]).getValues().get(i); // get values at the start probe point\n",
    "    var v1 = p1.getResults().get(vars[0]).getValues().get(i); // get values at the end probe point\n",
    "    Long diff = ChronoUnit.MILLIS.between(v0.getCreatedAt(), v1.getCreatedAt()); // get time diff\n",
    "    var vi = ValueInfoFactory.create(String.valueOf(codePoint+1), 0, null, diff.toString(), LocalDateTime.now());\n",
    "    esExporter.update(vi);\n",
    "  }\n",
    "}"
   ]
  },
  {
   "cell_type": "code",
   "execution_count": null,
   "metadata": {},
   "outputs": [],
   "source": [
    "class CustomBoxAndWhiskerRenderer extends BoxAndWhiskerRenderer {\n",
    "    \n",
    "}\n",
    "private void createBoxPlotChart(OutputStream out, Object data)\n",
    "            throws Exception {\n",
    "\n",
    "        ChartRenderingInfo info = new ChartRenderingInfo();\n",
    "        ByteArrayOutputStream baos = new ByteArrayOutputStream();\n",
    "        byte[] ptsImageBytes = null;\n",
    "\n",
    "        DefaultBoxAndWhiskerCategoryDataset boxAndWhiskerCategoryDS = createBoxAndWhiskerCategoryDataSet();\n",
    "\n",
    "        JFreeChart chart = ChartFactory.createBoxAndWhiskerChart(selectedFlight\n",
    "                + \" - Time on Hold\", \"Arrival Time (Days)\",\n",
    "                \"Hold Time (Mins)\", boxAndWhiskerCategoryDS, true); \n",
    "\n",
    "\n",
    "        NumberAxis rangeAxis = (NumberAxis) chart.getCategoryPlot()\n",
    "                .getRangeAxis();\n",
    "        rangeAxis.setStandardTickUnits(NumberAxis.createIntegerTickUnits());        \n",
    "        rangeAxis.setAutoRangeIncludesZero(true);\n",
    "\n",
    "\n",
    "        CategoryAxis domainAxis = chart.getCategoryPlot().getDomainAxis();\n",
    "\n",
    "        BoxAndWhiskerRenderer renderer = (BoxAndWhiskerRenderer) chart.getCategoryPlot().getRenderer();\n",
    "        //renderer.setFillBox(false);        \n",
    "        renderer.setMeanVisible(false);\n",
    "        renderer.setUseOutlinePaintForWhiskers(false);  \n",
    "        renderer.setMedianVisible(false);             \n",
    "\n",
    "\n",
    "        if(boxAndWhiskerCategoryDS.getRowCount()>8){\n",
    "            domainAxis.setCategoryLabelPositions(CategoryLabelPositions\n",
    "                    .createUpRotationLabelPositions(Math.PI / 5.0));\n",
    "        }       \n",
    "\n",
    "        chart.getCategoryPlot().setBackgroundPaint(Color.white);\n",
    "        chart.getCategoryPlot().setDomainGridlinePaint(Color.gray);\n",
    "        chart.getCategoryPlot().setRangeGridlinePaint(Color.gray);\n",
    "        chart.getCategoryPlot().setOutlineVisible(false);\n",
    "\n",
    "        BufferedImage pageImage = chart.createBufferedImage(CHART_WIDTH,\n",
    "                CHART_HEIGHT, BufferedImage.TYPE_INT_BGR, info);\n",
    "        ImageIO.write(pageImage, IMAGE_TYPE, baos);\n",
    "        baos.flush();\n",
    "        if (null != baos) {\n",
    "            ptsImageBytes = baos.toByteArray();\n",
    "        }\n",
    "\n",
    "        ImageIO.write(pageImage, IMAGE_TYPE, out);\n",
    "\n",
    "    }\n",
    "\n",
    "    private DefaultBoxAndWhiskerCategoryDataset createBoxAndWhiskerCategoryDataSet()\n",
    "            throws ParseException {     \n",
    "\n",
    "\n",
    "        DefaultBoxAndWhiskerCategoryDataset dataset = new DefaultBoxAndWhiskerCategoryDataset();\n",
    "\n",
    "        for (String graph : graphList) {            \n",
    "\n",
    "            final List<Double> list = new ArrayList<Double>();\n",
    "            for (ereportDto ereportDto : holdTimeRptList) {\n",
    "                if (ereportDto != null && ereportDto.getHoldTime() != 0\n",
    "                        && ereportDto.getGraphTime() != null\n",
    "                        && ereportDto.getGraphTime().equalsIgnoreCase(graph)) {                 \n",
    "\n",
    "                    double medianVal=ereportDto.getGraphHoldEntry()+((ereportDto.getGraphHoldExit()-ereportDto.getGraphHoldEntry())/2);\n",
    "\n",
    "                    list.add(new Double(ereportDto.getGraphTimeAt120NM()));                             \n",
    "                    list.add(new Double(ereportDto.getGraphHoldEntry()));\n",
    "                    list.add(new Double(medianVal));                    \n",
    "                    list.add(new Double(ereportDto.getGraphHoldExit()));                    \n",
    "                    list.add(new Double(ereportDto.getGraphLandedTime()));              \n",
    "\n",
    "                }\n",
    "            }\n",
    "            dataset.add(list, graph, graph);\n",
    "        }\n",
    "\n",
    "\n",
    "\n",
    "        return dataset;\n",
    "\n",
    "    }"
   ]
  }
 ],
 "metadata": {
  "kernelspec": {
   "display_name": "Java",
   "language": "java",
   "name": "java"
  },
  "language_info": {
   "codemirror_mode": "java",
   "file_extension": ".jshell",
   "mimetype": "text/x-java-source",
   "name": "Java",
   "pygments_lexer": "java",
   "version": "11.0.8+10-LTS"
  }
 },
 "nbformat": 4,
 "nbformat_minor": 4
}
