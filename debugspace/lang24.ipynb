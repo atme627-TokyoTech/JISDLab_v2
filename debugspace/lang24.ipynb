{
 "cells": [
  {
   "cell_type": "markdown",
   "id": "62527df3-2c6c-4e36-a07c-fba4beedd2a8",
   "metadata": {},
   "source": [
    "# lang-24 Debug Report"
   ]
  },
  {
   "cell_type": "markdown",
   "id": "5c58bd8a-b2ed-410c-848a-1bbf52fb18f0",
   "metadata": {},
   "source": [
    "## Set projectName and projectID"
   ]
  },
  {
   "cell_type": "code",
   "execution_count": 1,
   "id": "fa3ee596-adf0-4746-8624-910d93d3cbb3",
   "metadata": {
    "vscode": {
     "languageId": "java"
    }
   },
   "outputs": [],
   "source": [
    "var projectName = \"lang\";\n",
    "var projectId = \"24\";"
   ]
  },
  {
   "cell_type": "markdown",
   "id": "ae6e86b0-cd60-4d87-8d7d-1de5451c66e2",
   "metadata": {},
   "source": [
    "## Set project (Do NOT change below cell)"
   ]
  },
  {
   "cell_type": "code",
   "execution_count": 2,
   "id": "7deb2c3b-f786-4917-a3cf-0a53734428e2",
   "metadata": {
    "vscode": {
     "languageId": "java"
    }
   },
   "outputs": [],
   "source": [
    "var project = projectName + \" \" + projectId;\n",
    "var jisdCmd = \"jisd-d4j\"// \"/defects4j/framework/bin/jisd-d4j\"; //(If you use VSCode)"
   ]
  },
  {
   "cell_type": "code",
   "execution_count": 3,
   "id": "d0b71bc5",
   "metadata": {
    "vscode": {
     "languageId": "java"
    }
   },
   "outputs": [
    {
     "name": "stderr",
     "output_type": "stream",
     "text": [
      "Running ant (compile)...................................................... OK\n",
      "Running ant (compile.tests)................................................ OK\n"
     ]
    },
    {
     "data": {
      "text/markdown": [
       "Optional[[Ljava.lang.String;@3385106]"
      ],
      "text/plain": [
       "Optional[[Ljava.lang.String;@3385106]"
      ]
     },
     "execution_count": 3,
     "metadata": {},
     "output_type": "execute_result"
    }
   ],
   "source": [
    "exec(jisdCmd+\" build \"+project)"
   ]
  },
  {
   "cell_type": "code",
   "execution_count": 4,
   "id": "e47b4bff-6cb8-45b2-9c7a-48097f2c9da4",
   "metadata": {
    "vscode": {
     "languageId": "java"
    }
   },
   "outputs": [
    {
     "name": "stdout",
     "output_type": "stream",
     "text": [
      "JUnit version 4.8.2\n",
      "...................................................\n",
      "Time: 0.038\n",
      "\n",
      "OK (51 tests)\n"
     ]
    },
    {
     "name": "stderr",
     "output_type": "stream",
     "text": [
      "Running ant (compile)...................................................... OK\n",
      "Running ant (compile.tests)................................................ OK\n"
     ]
    },
    {
     "data": {
      "text/markdown": [
       "Optional[[Ljava.lang.String;@23092679]"
      ],
      "text/plain": [
       "Optional[[Ljava.lang.String;@23092679]"
      ]
     },
     "execution_count": 4,
     "metadata": {},
     "output_type": "execute_result"
    }
   ],
   "source": [
    "exec(jisdCmd+\" test \"+project)"
   ]
  },
  {
   "cell_type": "markdown",
   "id": "5a4176d9-85b8-473a-b18e-b158a64f8a07",
   "metadata": {
    "tags": []
   },
   "source": [
    "## Create Debugger and run"
   ]
  },
  {
   "cell_type": "markdown",
   "id": "ac90da71-49ba-4a76-a021-4458c49fd713",
   "metadata": {},
   "source": [
    "### Get propaties of this project"
   ]
  },
  {
   "cell_type": "code",
   "execution_count": 5,
   "id": "c97d3e55-e446-4796-874f-62d49599d58d",
   "metadata": {
    "vscode": {
     "languageId": "java"
    }
   },
   "outputs": [
    {
     "name": "stdout",
     "output_type": "stream",
     "text": [
      "/defects4j/tmp/lang_24_buggy\n",
      "/defects4j/tmp/lang_24_buggy/src/main/java\n",
      "/defects4j/tmp/lang_24_buggy/src/test/java\n",
      "org.apache.commons.lang3.math.NumberUtilsTest\n",
      "testIsNumber\n",
      "1145\n"
     ]
    }
   ],
   "source": [
    "var propKey = new ArrayList<>(Arrays.asList(\n",
    "    \"projdir\", \"srcdir\", \"testdir\", \"testclass\", \"testmethod\", \"line\"));\n",
    "var propValue = propKey.stream().map(k->exec(jisdCmd+\" \"+k+\" \"+project).get()[0]).collect(Collectors.toList());\n",
    "var prop = new HashMap<String, String>();\n",
    "for(int i = 0; i < propKey.size(); i++) {\n",
    "    prop.put(propKey.get(i), propValue.get(i));\n",
    "}\n",
    "// Properties for later use\n",
    "var projectDir = prop.get(\"projdir\");\n",
    "var mainSrcDir = prop.get(\"srcdir\");\n",
    "var testSrcDir = prop.get(\"testdir\");\n",
    "var testClass  = prop.get(\"testclass\");\n",
    "var testMethod = prop.get(\"testmethod\");\n",
    "var failedLine = Integer.parseInt(prop.get(\"line\"));"
   ]
  },
  {
   "cell_type": "markdown",
   "id": "09b8591f-3596-4c2f-845c-5fff790715f6",
   "metadata": {
    "tags": []
   },
   "source": [
    "### Run output cell below from Terminal"
   ]
  },
  {
   "cell_type": "code",
   "execution_count": 6,
   "id": "4999840e-8386-4bdc-ab25-86c89c6db7e9",
   "metadata": {
    "vscode": {
     "languageId": "java"
    }
   },
   "outputs": [
    {
     "name": "stdout",
     "output_type": "stream",
     "text": [
      "jisd-d4j debug lang 24\n"
     ]
    }
   ],
   "source": [
    "println(jisdCmd+\" debug \"+project)"
   ]
  },
  {
   "cell_type": "markdown",
   "id": "b81ac3bc-9e1e-4098-8232-7444c40b92c9",
   "metadata": {},
   "source": [
    "### Connect to the target VM"
   ]
  },
  {
   "cell_type": "code",
   "execution_count": 7,
   "id": "30f8a598-6545-4e39-ac0d-af26850d5304",
   "metadata": {
    "vscode": {
     "languageId": "java"
    }
   },
   "outputs": [
    {
     "name": "stdout",
     "output_type": "stream",
     "text": [
      ">> Debugger Info: Try to connect to localhost:25432\n",
      ">> Debugger Info: Successflly connected to localhost:25432\n",
      ">> Debugger Info: Deferring breakpoint in org.apache.commons.lang3.math.NumberUtilsTest. It will be set after the class is loaded.\n",
      ">> Debugger Info: Deferring breakpoint in org.apache.commons.lang3.math.NumberUtilsTest. It will be set after the class is loaded.\n"
     ]
    }
   ],
   "source": [
    "var dbg = new Debugger(25432);\n",
    "dbg.setSrcDir(mainSrcDir, testSrcDir);\n",
    "var p1 = dbg.stopAt(testClass, testMethod);\n",
    "var p2 = dbg.stopAt(testClass, failedLine);"
   ]
  },
  {
   "cell_type": "markdown",
   "id": "df898349-f1fe-4e21-8d20-6dab7565be7c",
   "metadata": {},
   "source": [
    "### Run the debugger & Check failed test"
   ]
  },
  {
   "cell_type": "code",
   "execution_count": 8,
   "id": "abebf49c-f4d0-468f-812e-d12a147888ac",
   "metadata": {
    "vscode": {
     "languageId": "java"
    }
   },
   "outputs": [
    {
     "name": "stdout",
     "output_type": "stream",
     "text": [
      ">> Debugger Info: Debugger started.\n",
      ">> Debugger Info: Breakpoint hit: line=1006, class=org.apache.commons.lang3.math.NumberUtilsTest, method=testIsNumber\n",
      ">> Debugger Info: Current location,: line=1006, class=org.apache.commons.lang3.math.NumberUtilsTest, method=testIsNumber\n",
      "1002 \t     * Tests isNumber(String) and tests that createNumber(String) returns\n",
      "1003 \t     * a valid number iff isNumber(String) returns false.\n",
      "1004 \t     */\n",
      "1005 \t    public void testIsNumber() {\n",
      "1006 =>\t        String val = \"12345\";\n",
      "1007 \t        assertTrue(\"isNumber(String) 1 failed\", NumberUtils.isNumber(val));\n",
      "1008 \t        assertTrue(\"isNumber(String)/createNumber(String) 1 failed\", checkCreateNumber(val));\n",
      "1009 \t        val = \"1234.5\";\n",
      "1010 \t        assertTrue(\"isNumber(String) 2 failed\", NumberUtils.isNumber(val));\n",
      "1011 \t        assertTrue(\"isNumber(String)/createNumber(String) 2 failed\", checkCreateNumber(val));\n"
     ]
    },
    {
     "data": {
      "text/markdown": [
       "[/Users/saku/Workspace/2020/JISDLab/debugspace/LoopN.java#L15](/tmp/lang_24_buggy/src/test/java/org/apache/commons/lang3/math/NumberUtilsTest.java#L1006)"
      ],
      "text/plain": [
       "[/defects4j/tmp/lang_24_buggy/src/test/java/org/apache/commons/lang3/math/NumberUtilsTest.java#L1006](/tmp/lang_24_buggy/src/test/java/org/apache/commons/lang3/math/NumberUtilsTest.java#L1006)"
      ]
     },
     "execution_count": 8,
     "metadata": {},
     "output_type": "execute_result"
    }
   ],
   "source": [
    "dbg.run();"
   ]
  },
  {
   "cell_type": "markdown",
   "id": "adfe8230-f867-4c93-bd97-3eb8ccb444e2",
   "metadata": {},
   "source": [
    "## Check failed line"
   ]
  },
  {
   "cell_type": "code",
   "execution_count": 9,
   "id": "0f45b0c5-57ae-42bd-94cd-f8488a7c1025",
   "metadata": {
    "vscode": {
     "languageId": "java"
    }
   },
   "outputs": [
    {
     "name": "stdout",
     "output_type": "stream",
     "text": [
      ">> Debugger Info: Breakpoint hit: line=1145, class=org.apache.commons.lang3.math.NumberUtilsTest, method=testIsNumber\n",
      ">> Debugger Info: Current location,: line=1145, class=org.apache.commons.lang3.math.NumberUtilsTest, method=testIsNumber\n",
      "1141 \t        assertTrue(\"isNumber(String) LANG-521 failed\", NumberUtils.isNumber(val));\n",
      "1142 \t\n",
      "1143 \t        // LANG-664\n",
      "1144 \t        val = \"1.1L\";\n",
      "1145 =>\t        assertFalse(\"isNumber(String) LANG-664 failed\", NumberUtils.isNumber(val));\n",
      "1146 \t    }\n",
      "1147 \t\n",
      "1148 \t    private boolean checkCreateNumber(String val) {\n",
      "1149 \t        try {\n",
      "1150 \t            Object obj = NumberUtils.createNumber(val);\n"
     ]
    },
    {
     "data": {
      "text/markdown": [
       "[/Users/saku/Workspace/2020/JISDLab/debugspace/HelloWorld.java#L10](/tmp/lang_24_buggy/src/test/java/org/apache/commons/lang3/math/NumberUtilsTest.java#L1145)"
      ],
      "text/plain": [
       "[/Users/saku/Workspace/2020/JISDLab/debugspace/HelloWorld.java#L10](/tmp/lang_24_buggy/src/test/java/org/apache/commons/lang3/math/NumberUtilsTest.java#L1145)"
      ]
     },
     "execution_count": 9,
     "metadata": {},
     "output_type": "execute_result"
    }
   ],
   "source": [
    "dbg.cont();"
   ]
  },
  {
   "cell_type": "markdown",
   "id": "cb636365-6e7d-40b6-a651-d0e6f9e49765",
   "metadata": {},
   "source": [
    "## Start debugging"
   ]
  },
  {
   "cell_type": "code",
   "execution_count": 10,
   "id": "4936b93e-cfd8-43a6-bd90-2d49350dbee2",
   "metadata": {
    "vscode": {
     "languageId": "java"
    }
   },
   "outputs": [
    {
     "name": "stdout",
     "output_type": "stream",
     "text": [
      ">> Debugger Info: Step completed: line=1320, class=org.apache.commons.lang3.math.NumberUtils, method=isNumber\n",
      ">> Debugger Info: Current location,: line=1320, class=org.apache.commons.lang3.math.NumberUtils, method=isNumber\n",
      "1316 \t     * @param str  the <code>String</code> to check\n",
      "1317 \t     * @return <code>true</code> if the string is a correctly formatted number\n",
      "1318 \t     */\n",
      "1319 \t    public static boolean isNumber(String str) {\n",
      "1320 =>\t        if (StringUtils.isEmpty(str)) {\n",
      "1321 \t            return false;\n",
      "1322 \t        }\n",
      "1323 \t        char[] chars = str.toCharArray();\n",
      "1324 \t        int sz = chars.length;\n",
      "1325 \t        boolean hasExp = false;\n"
     ]
    },
    {
     "data": {
      "text/markdown": [
       "[/Users/saku/Workspace/2020/JISDLab/debugspace/HelloWorld.java#L19](/tmp/lang_24_buggy/src/main/java/org/apache/commons/lang3/math/NumberUtils.java#L1320)"
      ],
      "text/plain": [
       "[/defects4j/tmp/lang_24_buggy/src/main/java/org/apache/commons/lang3/math/NumberUtils.java#L1320](/tmp/lang_24_buggy/src/main/java/org/apache/commons/lang3/math/NumberUtils.java#L1320)"
      ]
     },
     "execution_count": 10,
     "metadata": {},
     "output_type": "execute_result"
    }
   ],
   "source": [
    "dbg.stepIn();"
   ]
  },
  {
   "cell_type": "code",
   "execution_count": 11,
   "id": "d9c71539-ab80-446d-8e70-cdf8c647e73f",
   "metadata": {},
   "outputs": [
    {
     "data": {
      "text/markdown": [
       "Optional[jisd.debug.BreakPoint@ff2ef741]"
      ],
      "text/plain": [
       "Optional[jisd.debug.BreakPoint@ff2ef741]"
      ]
     },
     "execution_count": 11,
     "metadata": {},
     "output_type": "execute_result"
    }
   ],
   "source": [
    "dbg.stopAt(\"org.apache.commons.lang3.math.NumberUtils\", 1413)"
   ]
  },
  {
   "cell_type": "code",
   "execution_count": 12,
   "id": "1b570e52-8ffe-46bb-9daf-aa8e83a74638",
   "metadata": {},
   "outputs": [
    {
     "name": "stdout",
     "output_type": "stream",
     "text": [
      ">> Debugger Info: Breakpoint hit: line=1413, class=org.apache.commons.lang3.math.NumberUtils, method=isNumber\n",
      ">> Debugger Info: Current location,: line=1413, class=org.apache.commons.lang3.math.NumberUtils, method=isNumber\n",
      "1409 \t            }\n",
      "1410 \t            if (chars[i] == 'l'\n",
      "1411 \t                || chars[i] == 'L') {\n",
      "1412 \t                // not allowing L with an exponent or decimal point\n",
      "1413 =>\t                return foundDigit && !hasExp && !hasDecPoint;\n",
      "1414 \t            }\n",
      "1415 \t            // last character is illegal\n",
      "1416 \t            return false;\n",
      "1417 \t        }\n",
      "1418 \t        // allowSigns is true iff the val ends in 'E'\n"
     ]
    },
    {
     "data": {
      "text/markdown": [
       "[/Users/saku/Workspace/2020/JISDLab/debugspace/HelloWorld.java#L25](/tmp/lang_24_buggy/src/main/java/org/apache/commons/lang3/math/NumberUtils.java#L1413)"
      ],
      "text/plain": [
       "[/defects4j/tmp/lang_24_buggy/src/main/java/org/apache/commons/lang3/math/NumberUtils.java#L1413](/tmp/lang_24_buggy/src/main/java/org/apache/commons/lang3/math/NumberUtils.java#L1413)"
      ]
     },
     "execution_count": 12,
     "metadata": {},
     "output_type": "execute_result"
    }
   ],
   "source": [
    "dbg.cont();"
   ]
  },
  {
   "cell_type": "code",
   "execution_count": 13,
   "id": "9097d20e-5fa0-445a-8497-c3fd6b532691",
   "metadata": {},
   "outputs": [
    {
     "name": "stdout",
     "output_type": "stream",
     "text": [
      "allowSigns=false\n",
      "chars=instance of char[4] (id=484)\n",
      "foundDigit=true\n",
      "hasDecPoint=true\n",
      "hasExp=false\n",
      "i=3\n",
      "start=0\n",
      "str=\"1.1L\"\n",
      "sz=3\n",
      "this.BYTE_MINUS_ONE=instance of java.lang.Byte(id=473)\n",
      "this.BYTE_ONE=instance of java.lang.Byte(id=472)\n",
      "this.BYTE_ZERO=instance of java.lang.Byte(id=470)\n",
      "this.DOUBLE_MINUS_ONE=instance of java.lang.Double(id=478)\n",
      "this.DOUBLE_ONE=instance of java.lang.Double(id=477)\n",
      "this.DOUBLE_ZERO=instance of java.lang.Double(id=474)\n",
      "this.FLOAT_MINUS_ONE=instance of java.lang.Float(id=483)\n",
      "this.FLOAT_ONE=instance of java.lang.Float(id=482)\n",
      "this.FLOAT_ZERO=instance of java.lang.Float(id=479)\n",
      "this.INTEGER_MINUS_ONE=instance of java.lang.Integer(id=465)\n",
      "this.INTEGER_ONE=instance of java.lang.Integer(id=464)\n",
      "this.INTEGER_ZERO=instance of java.lang.Integer(id=455)\n",
      "this.LONG_MINUS_ONE=instance of java.lang.Long(id=454)\n",
      "this.LONG_ONE=instance of java.lang.Long(id=453)\n",
      "this.LONG_ZERO=instance of java.lang.Long(id=449)\n",
      "this.SHORT_MINUS_ONE=instance of java.lang.Short(id=469)\n",
      "this.SHORT_ONE=instance of java.lang.Short(id=468)\n",
      "this.SHORT_ZERO=instance of java.lang.Short(id=466)\n"
     ]
    }
   ],
   "source": [
    "dbg.vars()"
   ]
  },
  {
   "cell_type": "code",
   "execution_count": 14,
   "id": "534150ac-58f6-4bdd-8685-3bbecf3198b8",
   "metadata": {},
   "outputs": [
    {
     "name": "stdout",
     "output_type": "stream",
     "text": [
      ">> Debugger Info: Debugger exited.\n"
     ]
    }
   ],
   "source": [
    "dbg.exit()"
   ]
  },
  {
   "cell_type": "markdown",
   "id": "45bbef97-ed72-41fa-b225-2a259281f48c",
   "metadata": {},
   "source": [
    "##　Modify the source code and run the test again"
   ]
  },
  {
   "cell_type": "code",
   "execution_count": 15,
   "id": "8e6002eb-d4de-40ad-9e39-f58fa1e3afcb",
   "metadata": {
    "vscode": {
     "languageId": "java"
    }
   },
   "outputs": [],
   "source": [
    "Runnable diff = () -> exec(jisdCmd+\" diff \"+project);\n",
    "Runnable test = () -> exec(jisdCmd+\" test \"+project);"
   ]
  },
  {
   "cell_type": "code",
   "execution_count": 16,
   "id": "817e8c29-4e6f-498e-8d74-d0f860309739",
   "metadata": {
    "vscode": {
     "languageId": "java"
    }
   },
   "outputs": [
    {
     "name": "stdout",
     "output_type": "stream",
     "text": [
      "diff --git a/org/apache/commons/lang3/math/NumberUtils.java b/org/apache/commons/lang3/math/NumberUtils.java\n",
      "index 4a1d8459..d9b3c6de 100644\n",
      "--- a/org/apache/commons/lang3/math/NumberUtils.java\n",
      "+++ b/org/apache/commons/lang3/math/NumberUtils.java\n",
      "@@ -1410,7 +1410,7 @@ public class NumberUtils {\n",
      "             if (chars[i] == 'l'\n",
      "                 || chars[i] == 'L') {\n",
      "                 // not allowing L with an exponent or decimal point\n",
      "-                return foundDigit && !hasExp;\n",
      "+                return foundDigit && !hasExp && !hasDecPoint;\n",
      "             }\n",
      "             // last character is illegal\n",
      "             return false;\n"
     ]
    }
   ],
   "source": [
    "diff.run();"
   ]
  },
  {
   "cell_type": "code",
   "execution_count": 17,
   "id": "4367efdb-e4e4-4482-89c5-1fed348c7953",
   "metadata": {
    "vscode": {
     "languageId": "java"
    }
   },
   "outputs": [
    {
     "name": "stdout",
     "output_type": "stream",
     "text": [
      "JUnit version 4.8.2\n",
      "...................................................\n",
      "Time: 0.032\n",
      "\n",
      "OK (51 tests)\n"
     ]
    },
    {
     "name": "stderr",
     "output_type": "stream",
     "text": [
      "Running ant (compile)...................................................... OK\n",
      "Running ant (compile.tests)................................................ OK\n"
     ]
    }
   ],
   "source": [
    "test.run();"
   ]
  },
  {
   "cell_type": "markdown",
   "id": "284d9f1f-9974-477a-91fb-38fb57777730",
   "metadata": {
    "tags": [],
    "vscode": {
     "languageId": "java"
    }
   },
   "source": [
    "## Report a summary of the bug fix below\n",
    "---\n",
    "\n",
    "### Explanation of bug causes\n",
    "小数点を含む文字列(例: 1.1L)が，数字として認識されている\n",
    "\n",
    "### Explanation of bug fixes\n",
    "文字列に小数点を含むかどうかのフラグのチェックを追加\n",
    "\n",
    "---\n"
   ]
  },
  {
   "cell_type": "markdown",
   "id": "9dcf8789-bf06-4d08-8f14-cc9b5eb04b84",
   "metadata": {},
   "source": []
  }
 ],
 "metadata": {
  "kernelspec": {
   "display_name": "Java",
   "language": "java",
   "name": "java"
  },
  "language_info": {
   "codemirror_mode": "java",
   "file_extension": ".jshell",
   "mimetype": "text/x-java-source",
   "name": "Java",
   "pygments_lexer": "java",
   "version": "11.0.16+8-post-Ubuntu-0ubuntu120.04"
  }
 },
 "nbformat": 4,
 "nbformat_minor": 5
}
