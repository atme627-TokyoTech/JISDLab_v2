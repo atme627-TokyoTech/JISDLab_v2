{
 "cells": [
  {
   "cell_type": "markdown",
   "id": "0675c0dc-16c2-4406-8fda-7b8ed1806629",
   "metadata": {},
   "source": [
    "## javaコマンド実行時に以下を指定する\n",
    "java -Xdebug -Xrunjdwp:transport=dt_socket,address=8888,server=y,suspend=y Test"
   ]
  },
  {
   "cell_type": "code",
   "execution_count": 39,
   "id": "13d6fa3d-f6b9-4c37-8458-1f9486a5e391",
   "metadata": {
    "tags": []
   },
   "outputs": [
    {
     "name": "stdout",
     "output_type": "stream",
     "text": [
      ">> Debugger Info: Try to connect to host.docker.internal:8000\n"
     ]
    },
    {
     "ename": "EvalException",
     "evalue": "java.net.ConnectException: Connection refused (Connection refused)",
     "output_type": "error",
     "traceback": [
      "\u001b[1m\u001b[31m---------------------------------------------------------------------------\u001b[0m",
      "\u001b[1m\u001b[31mjava.lang.RuntimeException: java.net.ConnectException: Connection refused (Connection refused)\u001b[0m",
      "\u001b[1m\u001b[31m\tat org.jdiscript.util.VMSocketAttacher.attach(VMSocketAttacher.java:66)\u001b[0m",
      "\u001b[1m\u001b[31m\tat jisd.debug.VMManagerFactory.create(VMManagerFactory.java:63)\u001b[0m",
      "\u001b[1m\u001b[31m\tat jisd.debug.Debugger.init(Debugger.java:108)\u001b[0m",
      "\u001b[1m\u001b[31m\tat jisd.debug.Debugger.<init>(Debugger.java:78)\u001b[0m",
      "\u001b[1m\u001b[31m\tat jisd.debug.Debugger.<init>(Debugger.java:70)\u001b[0m",
      "\u001b[1m\u001b[31m\tat .do_it$Aux(#36:1)\u001b[0m",
      "\u001b[1m\u001b[31m\tat .(#36:1)\u001b[0m"
     ]
    }
   ],
   "source": [
    "var dbg = new Debugger(\"host.docker.internal\", 8000);"
   ]
  },
  {
   "cell_type": "code",
   "execution_count": 6,
   "id": "e1df9bdc-aa2f-473f-9068-ad5278e7fb7a",
   "metadata": {
    "tags": []
   },
   "outputs": [
    {
     "name": "stdout",
     "output_type": "stream",
     "text": [
      ">> Debugger Info: Deferring breakpoint in org.apache.commons.math.optimization.linear.SimplexSolverTest. It will be set after the class is loaded.\n"
     ]
    }
   ],
   "source": [
    "Optional<Point> bp = dbg.stopAt(\"org.apache.commons.math.optimization.linear.SimplexSolverTest\", 74);"
   ]
  },
  {
   "cell_type": "code",
   "execution_count": 7,
   "id": "3ccc5ce1-f15b-4db7-ad9b-9f90a7fc9caa",
   "metadata": {
    "tags": []
   },
   "outputs": [
    {
     "name": "stdout",
     "output_type": "stream",
     "text": [
      ">> Debugger Info: Debugger started.\n",
      ">> Debugger Info: Breakpoint hit: line=74, class=org.apache.commons.math.optimization.linear.SimplexSolverTest, method=testSingleVariableAndConstraint\n",
      ">> Debugger Info: Current location,: line=74, class=org.apache.commons.math.optimization.linear.SimplexSolverTest, method=testSingleVariableAndConstraint\n"
     ]
    },
    {
     "name": "stderr",
     "output_type": "stream",
     "text": [
      ">> Debugger Info: org/apache/commons/math/optimization/linear/SimplexSolverTest.java not found. Set srcDir by list(String srcDir) or Debugger.setSrcDir(String... srcDir))\n",
      ">> Debugger Info: org/apache/commons/math/optimization/linear/SimplexSolverTest.java not found. Set srcDir by Debugger.setSrcDir(String... srcDir))\n"
     ]
    }
   ],
   "source": [
    "dbg.run(1000)"
   ]
  },
  {
   "cell_type": "code",
   "execution_count": 8,
   "id": "965d20fd-c355-4f6f-99c9-75809b889230",
   "metadata": {
    "tags": []
   },
   "outputs": [
    {
     "name": "stdout",
     "output_type": "stream",
     "text": [
      "Method arguments:\n",
      "\n",
      "Local variables:\n",
      "f = instance of org.apache.commons.math.optimization.linear.LinearObjectiveFunction(id=463)\n",
      "constraints = instance of java.util.ArrayList(id=464)\n",
      "solver = instance of org.apache.commons.math.optimization.linear.SimplexSolver(id=465)\n"
     ]
    }
   ],
   "source": [
    "dbg.locals()"
   ]
  },
  {
   "cell_type": "code",
   "execution_count": 9,
   "id": "10b896d1-8dc4-4128-b8a6-a55a54f919ac",
   "metadata": {
    "tags": []
   },
   "outputs": [],
   "source": [
    "HashMap<String, DebugResult> drs = bp.get().getResults()"
   ]
  },
  {
   "cell_type": "code",
   "execution_count": 7,
   "id": "cb6acd09-c317-494d-8a62-88ee452a314a",
   "metadata": {
    "tags": []
   },
   "outputs": [
    {
     "ename": "CompilationException",
     "evalue": "",
     "output_type": "error",
     "traceback": [
      "\u001b[1m\u001b[30m|   \u001b[1m\u001b[30m\u001b[0m\u001b[1m\u001b[30m\u001b[41mdrs\u001b[0m\u001b[1m\u001b[30m\u001b[0m",
      "\u001b[1m\u001b[31mcannot find symbol\u001b[0m",
      "\u001b[1m\u001b[31m  symbol:   variable drs\u001b[0m",
      ""
     ]
    }
   ],
   "source": [
    "drs"
   ]
  },
  {
   "cell_type": "code",
   "execution_count": 11,
   "id": "5a0a8e24-299b-4af0-8667-9424afd3a445",
   "metadata": {
    "tags": []
   },
   "outputs": [],
   "source": [
    "DebugResult solver = drs.get(\"solver\")"
   ]
  },
  {
   "cell_type": "code",
   "execution_count": 12,
   "id": "6168c9ac-88ab-471b-8373-d7597cf475db",
   "metadata": {
    "tags": []
   },
   "outputs": [],
   "source": [
    "var vi = solver.lv()"
   ]
  },
  {
   "cell_type": "code",
   "execution_count": 13,
   "id": "59c51662-6b88-466c-a4c3-fa75cbf33b47",
   "metadata": {
    "tags": []
   },
   "outputs": [],
   "source": [
    "ArrayList<ValueInfo> fields = vi.ch();"
   ]
  },
  {
   "cell_type": "code",
   "execution_count": 14,
   "id": "f0d41135-1f74-4e1a-a0d7-08d79d775a69",
   "metadata": {
    "tags": []
   },
   "outputs": [
    {
     "data": {
      "text/markdown": [
       "[DEFAULT_EPSILON=1.0E-6, epsilon=1.0E-6]"
      ],
      "text/plain": [
       "[DEFAULT_EPSILON=1.0E-6, epsilon=1.0E-6]"
      ]
     },
     "execution_count": 14,
     "metadata": {},
     "output_type": "execute_result"
    }
   ],
   "source": [
    "fields"
   ]
  },
  {
   "cell_type": "code",
   "execution_count": 15,
   "id": "b1a5cdbb-8497-4770-ba8e-461b05785a3c",
   "metadata": {
    "tags": []
   },
   "outputs": [
    {
     "data": {
      "text/markdown": [],
      "text/plain": []
     },
     "execution_count": 15,
     "metadata": {},
     "output_type": "execute_result"
    }
   ],
   "source": [
    "dbg.cont()\n"
   ]
  },
  {
   "cell_type": "code",
   "execution_count": 7,
   "id": "c3f4c923-25af-4edb-b909-1a503b99c029",
   "metadata": {
    "tags": []
   },
   "outputs": [
    {
     "ename": "CompilationException",
     "evalue": "",
     "output_type": "error",
     "traceback": [
      "\u001b[1m\u001b[30m|   \u001b[1m\u001b[30mvar a = new \u001b[0m\u001b[1m\u001b[30m\u001b[41mFaultFinder\u001b[0m\u001b[1m\u001b[30m();\u001b[0m",
      "\u001b[1m\u001b[31mcannot find symbol\u001b[0m",
      "\u001b[1m\u001b[31m  symbol:   class FaultFinder\u001b[0m",
      ""
     ]
    }
   ],
   "source": [
    "var a = new FaultFinder();"
   ]
  },
  {
   "cell_type": "code",
   "execution_count": 45,
   "id": "c6973252-444f-4cf0-83d2-31cb1d1c5b34",
   "metadata": {
    "tags": []
   },
   "outputs": [
    {
     "ename": "CompilationException",
     "evalue": "",
     "output_type": "error",
     "traceback": [
      "\u001b[1m\u001b[30m|   \u001b[1m\u001b[30m\u001b[0m\u001b[1m\u001b[30m\u001b[41m\u001b[0m\u001b[1m\u001b[30mimport jisd.*;\u001b[0m",
      "\u001b[1m\u001b[31mpackage jisd does not exist\u001b[0m",
      ""
     ]
    }
   ],
   "source": []
  },
  {
   "cell_type": "code",
   "execution_count": 6,
   "id": "9c587029-7871-43a8-8dc8-60210021a925",
   "metadata": {
    "tags": []
   },
   "outputs": [
    {
     "ename": "EvalException",
     "evalue": "org/jacoco/core/analysis/ICoverageVisitor",
     "output_type": "error",
     "traceback": [
      "\u001b[1m\u001b[31m---------------------------------------------------------------------------\u001b[0m",
      "\u001b[1m\u001b[31mjava.lang.NoClassDefFoundError: org/jacoco/core/analysis/ICoverageVisitor\u001b[0m",
      "\u001b[1m\u001b[31m\tat .(#27:1)\u001b[0m"
     ]
    }
   ],
   "source": [
    "CoverageAnalyzer ca = new CoverageAnalyzer();"
   ]
  }
 ],
 "metadata": {
  "kernelspec": {
   "display_name": "Java",
   "language": "java",
   "name": "java"
  },
  "language_info": {
   "codemirror_mode": "java",
   "file_extension": ".jshell",
   "mimetype": "text/x-java-source",
   "name": "Java",
   "pygments_lexer": "java",
   "version": "11.0.24+8-post-Debian-2deb11u1"
  }
 },
 "nbformat": 4,
 "nbformat_minor": 5
}
