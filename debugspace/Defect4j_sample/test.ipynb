{
 "cells": [
  {
   "cell_type": "code",
   "execution_count": 1,
   "id": "10d9bdff-5ee1-4353-8977-4b74f24df12f",
   "metadata": {
    "tags": []
   },
   "outputs": [],
   "source": [
    "PropertyLoader.setProperty(\"targetBinDir\", \"/workspaces/sample/math_87_buggy/target/classes\");\n",
    "PropertyLoader.setProperty(\"testBinDir\", \"/workspaces/sample/math_87_buggy/target/test-classes\");\n",
    "PropertyLoader.setProperty(\"targetSrcDir\", \"/workspaces/sample/math_87_buggy/src/java\");\n",
    "PropertyLoader.setProperty(\"testSrcDir\", \"/workspaces/sample/math_87_buggy/src/test\");\n",
    "\n",
    "PropertyLoader.setProperty(\"jacocoAgentPath\", \"/workspaces/sample/jacocoagent.jar\");\n",
    "PropertyLoader.setProperty(\"jacocoExecFilePath\", \"/workspaces/sample/jacocoexec\");"
   ]
  },
  {
   "cell_type": "code",
   "execution_count": 2,
   "id": "b1835677-0587-4dab-ab56-eb0e938423f4",
   "metadata": {
    "tags": []
   },
   "outputs": [
    {
     "name": "stderr",
     "output_type": "stream",
     "text": [
      "/workspaces/sample/math_87_buggy/src/test/org/apache/commons/math/optimization/linear/SimplexSolverTest.java:20: error: package org.junit does not exist\n",
      "import static org.junit.Assert.assertEquals;\n",
      "                       ^\n",
      "/workspaces/sample/math_87_buggy/src/test/org/apache/commons/math/optimization/linear/SimplexSolverTest.java:20: error: static import only from classes and interfaces\n",
      "import static org.junit.Assert.assertEquals;\n",
      "^\n",
      "/workspaces/sample/math_87_buggy/src/test/org/apache/commons/math/optimization/linear/SimplexSolverTest.java:30: error: package org.junit does not exist\n",
      "import org.junit.Test;\n",
      "                ^\n",
      "/workspaces/sample/math_87_buggy/src/test/org/apache/commons/math/optimization/linear/SimplexSolverTest.java:34: error: cannot find symbol\n",
      "    @Test\n",
      "     ^\n",
      "  symbol:   class Test\n",
      "  location: class SimplexSolverTest\n",
      "/workspaces/sample/math_87_buggy/src/test/org/apache/commons/math/optimization/linear/SimplexSolverTest.java:51: error: cannot find symbol\n",
      "    @Test\n",
      "     ^\n",
      "  symbol:   class Test\n",
      "  location: class SimplexSolverTest\n",
      "/workspaces/sample/math_87_buggy/src/test/org/apache/commons/math/optimization/linear/SimplexSolverTest.java:67: error: cannot find symbol\n",
      "    @Test\n",
      "     ^\n",
      "  symbol:   class Test\n",
      "  location: class SimplexSolverTest\n",
      "/workspaces/sample/math_87_buggy/src/test/org/apache/commons/math/optimization/linear/SimplexSolverTest.java:83: error: cannot find symbol\n",
      "    @Test\n",
      "     ^\n",
      "  symbol:   class Test\n",
      "  location: class SimplexSolverTest\n",
      "/workspaces/sample/math_87_buggy/src/test/org/apache/commons/math/optimization/linear/SimplexSolverTest.java:98: error: cannot find symbol\n",
      "    @Test\n",
      "     ^\n",
      "  symbol:   class Test\n",
      "  location: class SimplexSolverTest\n",
      "/workspaces/sample/math_87_buggy/src/test/org/apache/commons/math/optimization/linear/SimplexSolverTest.java:113: error: cannot find symbol\n",
      "    @Test\n",
      "     ^\n",
      "  symbol:   class Test\n",
      "  location: class SimplexSolverTest\n",
      "/workspaces/sample/math_87_buggy/src/test/org/apache/commons/math/optimization/linear/SimplexSolverTest.java:127: error: cannot find symbol\n",
      "    @Test(expected = NoFeasibleSolutionException.class)\n",
      "     ^\n",
      "  symbol:   class Test\n",
      "  location: class SimplexSolverTest\n",
      "/workspaces/sample/math_87_buggy/src/test/org/apache/commons/math/optimization/linear/SimplexSolverTest.java:138: error: cannot find symbol\n",
      "    @Test(expected = UnboundedSolutionException.class)\n",
      "     ^\n",
      "  symbol:   class Test\n",
      "  location: class SimplexSolverTest\n",
      "/workspaces/sample/math_87_buggy/src/test/org/apache/commons/math/optimization/linear/SimplexSolverTest.java:148: error: cannot find symbol\n",
      "    @Test\n",
      "     ^\n",
      "  symbol:   class Test\n",
      "  location: class SimplexSolverTest\n",
      "/workspaces/sample/math_87_buggy/src/test/org/apache/commons/math/optimization/linear/SimplexSolverTest.java:168: error: cannot find symbol\n",
      "    @Test\n",
      "     ^\n",
      "  symbol:   class Test\n",
      "  location: class SimplexSolverTest\n",
      "/workspaces/sample/math_87_buggy/src/test/org/apache/commons/math/optimization/linear/SimplexSolverTest.java:185: error: cannot find symbol\n",
      "    @Test\n",
      "     ^\n",
      "  symbol:   class Test\n",
      "  location: class SimplexSolverTest\n",
      "/workspaces/sample/math_87_buggy/src/test/org/apache/commons/math/optimization/linear/SimplexSolverTest.java:196: error: cannot find symbol\n",
      "    @Test\n",
      "     ^\n",
      "  symbol:   class Test\n",
      "  location: class SimplexSolverTest\n",
      "15 errors\n"
     ]
    },
    {
     "ename": "EvalException",
     "evalue": "failed to compile.",
     "output_type": "error",
     "traceback": [
      "\u001b[1m\u001b[31m---------------------------------------------------------------------------\u001b[0m",
      "\u001b[1m\u001b[31mjava.lang.RuntimeException: failed to compile.\u001b[0m",
      "\u001b[1m\u001b[31m\tat jisd.fl.util.TestUtil.compileTestClass(TestUtil.java:42)\u001b[0m",
      "\u001b[1m\u001b[31m\tat jisd.fl.coverage.CoverageAnalyzer.analyzeAll(CoverageAnalyzer.java:47)\u001b[0m",
      "\u001b[1m\u001b[31m\tat .(#31:1)\u001b[0m"
     ]
    }
   ],
   "source": [
    "var ca = new CoverageAnalyzer();\n",
    "String testClassName = \"org.apache.commons.math.optimization.linear.SimplexSolverTest\";\n",
    "CoverageCollection cov = ca.analyzeAll(testClassName);"
   ]
  }
 ],
 "metadata": {
  "kernelspec": {
   "display_name": "Java",
   "language": "java",
   "name": "java"
  },
  "language_info": {
   "codemirror_mode": "java",
   "file_extension": ".jshell",
   "mimetype": "text/x-java-source",
   "name": "Java",
   "pygments_lexer": "java",
   "version": "11.0.24+8-post-Debian-2deb11u1"
  }
 },
 "nbformat": 4,
 "nbformat_minor": 5
}
