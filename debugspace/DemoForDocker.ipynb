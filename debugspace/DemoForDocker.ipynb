{
 "cells": [
  {
   "cell_type": "markdown",
   "metadata": {},
   "source": [
    "## Debugger Demo"
   ]
  },
  {
   "cell_type": "code",
   "execution_count": 1,
   "metadata": {
    "tags": []
   },
   "outputs": [
    {
     "name": "stdout",
     "output_type": "stream",
     "text": [
      ">> Debugger Info: Deferring breakpoint in jisd.demo.HelloWorld. It will be set after the class is loaded.\n",
      ">> Debugger Info: Deferring breakpoint in jisd.demo.HelloWorld. It will be set after the class is loaded.\n",
      ">> Debugger Info: Debugger started.\n",
      ">> Debugger Info: Breakpoint hit: line=20, class=jisd.demo.HelloWorld, method=main\n",
      "Hello, Bob\n",
      ">> Debugger Info: Breakpoint hit: line=22, class=jisd.demo.HelloWorld, method=main\n",
      "Hello, Alice\n",
      ">> Debugger Info: VM exited.\n",
      "-----------------------------\n",
      "20\n",
      "a\n",
      "a=0\n",
      "-----------------------------\n",
      "20\n",
      "args\n",
      "args=instance of java.lang.String[0] (id=66)\n",
      "-----------------------------\n",
      "20\n",
      "hello\n",
      "hello=instance of jisd.demo.HelloWorld(id=68)\n",
      "-----------------------------\n",
      "20\n",
      "me\n",
      "me=\"Alice\"\n",
      "-----------------------------\n",
      "22\n",
      "a\n",
      "a=1\n",
      "-----------------------------\n",
      "22\n",
      "args\n",
      "args=instance of java.lang.String[0] (id=66)\n",
      "-----------------------------\n",
      "22\n",
      "hello\n",
      "hello=instance of jisd.demo.HelloWorld(id=68)\n",
      "-----------------------------\n",
      "22\n",
      "me\n",
      "me=\"Alice\"\n"
     ]
    }
   ],
   "source": [
    "var dbg = new Debugger(\"jisd.demo.HelloWorld\", \"-cp ../sample\");\n",
    "dbg.watch(20);\n",
    "dbg.watch(22);\n",
    "dbg.run(1000);\n",
    "dbg.exit();\n",
    "ArrayList<DebugResult> results = dbg.getResults();\n",
    "results.forEach(res -> {\n",
    "    System.out.println(\"-----------------------------\");\n",
    "    var loc = res.getLocation();\n",
    "    println(loc.getLineNumber());\n",
    "    println(loc.getVarName());\n",
    "    println(res.getLatestValue());\n",
    "});"
   ]
  },
  {
   "cell_type": "markdown",
   "metadata": {},
   "source": [
    "## Graph Demo"
   ]
  },
  {
   "cell_type": "code",
   "execution_count": 9,
   "metadata": {
    "tags": []
   },
   "outputs": [
    {
     "data": {
      "image/png": "[encoded data removed]",
      "text/markdown": [
       "BufferedImage@72451817: type = 1 DirectColorModel: rmask=ff0000 gmask=ff00 bmask=ff amask=0 IntegerInterleavedRaster: width = 600 height = 400 #Bands = 3 xOff = 0 yOff = 0 dataOffset[0] 0"
      ],
      "text/plain": [
       "BufferedImage@72451817: type = 1 DirectColorModel: rmask=ff0000 gmask=ff00 bmask=ff amask=0 IntegerInterleavedRaster: width = 600 height = 400 #Bands = 3 xOff = 0 yOff = 0 dataOffset[0] 0"
      ]
     },
     "execution_count": 9,
     "metadata": {},
     "output_type": "execute_result"
    }
   ],
   "source": [
    "ArrayList<Double> x = new ArrayList<>();\n",
    "ArrayList<Double> y = new ArrayList<>();\n",
    "ArrayList<DebugResult> resA = dbg.getResults(\"a\");\n",
    "ArrayList<Double> valA = new ArrayList<>();\n",
    "ArrayList<Double> lineA = new ArrayList<>();\n",
    "int sizeA = resA.size();\n",
    "for (int i = 0; i < sizeA; i++) {\n",
    "    DebugResult res = resA.get(i);\n",
    "    Location loc = res.getLocation();\n",
    "    double val = Double.parseDouble(res.getLatestValue().getValue());\n",
    "    double line = loc.getLineNumber();\n",
    "    valA.add(val);\n",
    "    lineA.add(line);\n",
    "}\n",
    "\n",
    "int resNextIndex = 0;\n",
    "double val = valA.get(resNextIndex);\n",
    "double lLine = lineA.get(resNextIndex++);\n",
    "double rLine = lineA.get(resNextIndex++);\n",
    "double xMin = 0.0;\n",
    "double xMax = 50.0;\n",
    "for (double i = lLine; i < xMax; i += 0.1) {\n",
    "    x.add(i);\n",
    "    if (i >= lLine && i < rLine) {\n",
    "        y.add(val);\n",
    "    } else if (i >= rLine) {\n",
    "        val = valA.get(resNextIndex-1);\n",
    "        lLine = rLine;\n",
    "        rLine = (resNextIndex < sizeA) ? lineA.get(resNextIndex++) : xMax;\n",
    "        y.add(val);\n",
    "    } else {\n",
    "        y.add(0.0);\n",
    "    }\n",
    "}\n",
    "XYChart chart = QuickChart.getChart(\"Sample\", \"x\", \"y\", \"a\", x, y);\n",
    "chart.getStyler().setXAxisMin(xMin);\n",
    "chart.getStyler().setXAxisMax(xMax);\n",
    "BitmapEncoder.getBufferedImage(chart);"
   ]
  },
  {
   "cell_type": "markdown",
   "metadata": {},
   "source": [
    "## Static Infomation Demo"
   ]
  },
  {
   "cell_type": "code",
   "execution_count": 3,
   "metadata": {
    "tags": []
   },
   "outputs": [
    {
     "ename": "EvalException",
     "evalue": "org/json/JSONException",
     "output_type": "error",
     "traceback": [
      "\u001b[1m\u001b[31m---------------------------------------------------------------------------\u001b[0m",
      "\u001b[1m\u001b[31mjava.lang.NoClassDefFoundError: org/json/JSONException\u001b[0m",
      "\u001b[1m\u001b[31m\tat jisd.info.StaticInfoFactory.<init>(StaticInfoFactory.java:16)\u001b[0m",
      "\u001b[1m\u001b[31m\tat .do_it$Aux(#48:1)\u001b[0m",
      "\u001b[1m\u001b[31m\tat .(#48:1)\u001b[0m"
     ]
    }
   ],
   "source": [
    "var sif = new StaticInfoFactory(\".\", \"../sample\"); // set srcDir and binDir\n",
    "ClassInfo ci = sif.createClass(\"jisd.demo.HelloWorld\")"
   ]
  },
  {
   "cell_type": "code",
   "execution_count": 4,
   "metadata": {},
   "outputs": [
    {
     "data": {
      "text/plain": [
       "[a, helloTo]"
      ]
     },
     "execution_count": 4,
     "metadata": {},
     "output_type": "execute_result"
    }
   ],
   "source": [
    "ci.fieldNames()"
   ]
  },
  {
   "cell_type": "code",
   "execution_count": 5,
   "metadata": {},
   "outputs": [
    {
     "data": {
      "text/plain": [
       "[sayHello(), setHelloTo(java.lang.String), HelloWorld(java.lang.String), main(java.lang.String[])]"
      ]
     },
     "execution_count": 5,
     "metadata": {},
     "output_type": "execute_result"
    }
   ],
   "source": [
    "ci.methodNames()"
   ]
  },
  {
   "cell_type": "code",
   "execution_count": 6,
   "metadata": {},
   "outputs": [
    {
     "data": {
      "text/plain": [
       "this.helloTo"
      ]
     },
     "execution_count": 6,
     "metadata": {},
     "output_type": "execute_result"
    }
   ],
   "source": [
    "var fi = ci.field(\"helloTo\");\n",
    "fi.name()"
   ]
  },
  {
   "cell_type": "code",
   "execution_count": 7,
   "metadata": {},
   "outputs": [
    {
     "data": {
      "text/plain": [
       "[args, a, me, hello, this.a, this.helloTo]"
      ]
     },
     "execution_count": 7,
     "metadata": {},
     "output_type": "execute_result"
    }
   ],
   "source": [
    "var mi = ci.method(\"main(java.lang.String[])\");\n",
    "mi.localNames()"
   ]
  },
  {
   "cell_type": "code",
   "execution_count": 8,
   "metadata": {},
   "outputs": [],
   "source": [
    "var li = mi.local(\"a\")"
   ]
  },
  {
   "cell_type": "code",
   "execution_count": 9,
   "metadata": {},
   "outputs": [
    {
     "data": {
      "text/plain": [
       "[18, 19, 20, 21, 22, 23, 25]"
      ]
     },
     "execution_count": 9,
     "metadata": {},
     "output_type": "execute_result"
    }
   ],
   "source": [
    "li.canSet()"
   ]
  },
  {
   "cell_type": "markdown",
   "metadata": {},
   "source": [
    "## Execute External Program Demo"
   ]
  },
  {
   "cell_type": "markdown",
   "metadata": {},
   "source": [
    "### Use %exec magic"
   ]
  },
  {
   "cell_type": "code",
   "execution_count": 10,
   "metadata": {},
   "outputs": [
    {
     "name": "stdout",
     "output_type": "stream",
     "text": [
      "/workspaces/debugspace\n"
     ]
    }
   ],
   "source": [
    "%exec pwd"
   ]
  },
  {
   "cell_type": "markdown",
   "metadata": {},
   "source": [
    "### Use debug.Utility.exec()"
   ]
  },
  {
   "cell_type": "code",
   "execution_count": 11,
   "metadata": {},
   "outputs": [
    {
     "name": "stdout",
     "output_type": "stream",
     "text": [
      "/workspaces/debugspace\n"
     ]
    }
   ],
   "source": [
    "var res = exec(\"pwd\").get()"
   ]
  },
  {
   "cell_type": "code",
   "execution_count": 12,
   "metadata": {},
   "outputs": [
    {
     "data": {
      "text/plain": [
       "/workspaces/debugspace\n"
      ]
     },
     "execution_count": 12,
     "metadata": {},
     "output_type": "execute_result"
    }
   ],
   "source": [
    "res[0] // stdout"
   ]
  },
  {
   "cell_type": "code",
   "execution_count": 13,
   "metadata": {},
   "outputs": [
    {
     "data": {
      "text/plain": []
     },
     "execution_count": 13,
     "metadata": {},
     "output_type": "execute_result"
    }
   ],
   "source": [
    "res[1] // stderr"
   ]
  },
  {
   "cell_type": "code",
   "execution_count": 14,
   "metadata": {},
   "outputs": [
    {
     "data": {
      "text/plain": [
       "0"
      ]
     },
     "execution_count": 14,
     "metadata": {},
     "output_type": "execute_result"
    }
   ],
   "source": [
    "res[2] // exit code (String)"
   ]
  },
  {
   "cell_type": "markdown",
   "metadata": {},
   "source": [
    "## Export data to Elasticserach\n",
    "Plaese see [DebugTutorial.ipynb#7](DebugTutorial.ipynb#7)"
   ]
  },
  {
   "cell_type": "code",
   "execution_count": 15,
   "metadata": {},
   "outputs": [
    {
     "name": "stdout",
     "output_type": "stream",
     "text": [
      ">> Debugger Info: Deferring breakpoint in jisd.demo.BinarySearch. It will be set after the class is loaded.\n",
      ">> Debugger Info: Deferring breakpoint in jisd.demo.BinarySearch. It will be set after the class is loaded.\n",
      ">> Debugger Info: Deferring breakpoint in jisd.demo.BinarySearch. It will be set after the class is loaded.\n",
      ">> Debugger Info: Debugger started.\n",
      "post json\n"
     ]
    }
   ],
   "source": [
    "/*\n",
    "var dbg = new Debugger(\"jisd.demo.BinarySearch\", \"-cp ../sample\");\n",
    "// ElasticsearchExporter(host, port, name, timeLocale = \"00:00\")\n",
    "var esExporter = new ElasticsearchExporter(\"http://elastic01\", 9200, \"sample1\");\n",
    "dbg.setExporter(esExporter);\n",
    "dbg.watch(12, new String[]{\"bs\"});\n",
    "dbg.watch(19, new String[]{\"left\", \"right\"});\n",
    "dbg.watch(25, new String[]{\"left\", \"right\"});\n",
    "esExporter.run(10);\n",
    "esExporter.setVerbose(true);\n",
    "dbg.run(3000);\n",
    "esExporter.stop();\n",
    "*/"
   ]
  },
  {
   "cell_type": "markdown",
   "metadata": {},
   "source": [
    "Go to **Grafana**(http://localhost:3000)"
   ]
  },
  {
   "cell_type": "code",
   "execution_count": null,
   "metadata": {},
   "outputs": [],
   "source": []
  }
 ],
 "metadata": {
  "kernelspec": {
   "display_name": "Java",
   "language": "java",
   "name": "java"
  },
  "language_info": {
   "codemirror_mode": "java",
   "file_extension": ".jshell",
   "mimetype": "text/x-java-source",
   "name": "Java",
   "pygments_lexer": "java",
   "version": "11.0.24+8-post-Debian-2deb11u1"
  }
 },
 "nbformat": 4,
 "nbformat_minor": 4
}
