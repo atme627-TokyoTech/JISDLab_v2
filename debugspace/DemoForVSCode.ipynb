{
 "cells": [
  {
   "cell_type": "markdown",
   "metadata": {},
   "source": [
    "# Debugger Demo\n",
    "Please set VSCode workspace directory to `JISDLab/`"
   ]
  },
  {
   "cell_type": "code",
   "execution_count": 1,
   "metadata": {},
   "outputs": [
    {
     "name": "stdout",
     "output_type": "stream",
     "text": [
      ">> Debugger Info: Deferring breakpoint in demo.HelloWorld. It will be set after the class is loaded.\n",
      ">> Debugger Info: Deferring breakpoint in demo.HelloWorld. It will be set after the class is loaded.\n",
      ">> Debugger Info: Debugger started.\n",
      "Hello, Bob\n",
      "Hello, Alice\n",
      ">> Debugger Info: VM exited.\n",
      "-----------------------------\n",
      "28\n",
      "a\n",
      "a=1\n",
      "\n",
      "-----------------------------\n",
      "28\n",
      "args\n",
      "args=instance of java.lang.String[0] (id=67)\n",
      "\n",
      "-----------------------------\n",
      "28\n",
      "hello\n",
      "hello=instance of demo.HelloWorld(id=69)\n",
      "\n",
      "-----------------------------\n",
      "28\n",
      "me\n",
      "me=\"Alice\"\n",
      "\n",
      "-----------------------------\n",
      "30\n",
      "a\n",
      "a=2\n",
      "\n",
      "-----------------------------\n",
      "30\n",
      "args\n",
      "args=instance of java.lang.String[0] (id=67)\n",
      "\n",
      "-----------------------------\n",
      "30\n",
      "hello\n",
      "hello=instance of demo.HelloWorld(id=69)\n",
      "\n",
      "-----------------------------\n",
      "30\n",
      "me\n",
      "me=\"Alice\"\n",
      "\n"
     ]
    }
   ],
   "source": [
    "var dbg = new Debugger(\"jisd.demo.HelloWorld\", \"-cp sample\");\n",
    "dbg.watch(20);\n",
    "dbg.watch(22);\n",
    "dbg.run(1000);\n",
    "dbg.exit();\n",
    "ArrayList<DebugResult> results = dbg.getResults();\n",
    "results.forEach(res -> {\n",
    "    println(\"-----------------------------\");\n",
    "    var loc = res.getLocation();\n",
    "    println(loc.getLineNumber());\n",
    "    println(loc.getVarName());\n",
    "    println(res.getLatestValue());\n",
    "});"
   ]
  },
  {
   "cell_type": "markdown",
   "metadata": {},
   "source": [
    "# Graph Demo"
   ]
  },
  {
   "cell_type": "code",
   "execution_count": 2,
   "metadata": {},
   "outputs": [
    {
     "data": {
      "image/png": "[encoded data removed]",
      "text/plain": [
       "BufferedImage@3a04ebbc: type = 2 DirectColorModel: rmask=ff0000 gmask=ff00 bmask=ff amask=ff000000 IntegerInterleavedRaster: width = 600 height = 400 #Bands = 4 xOff = 0 yOff = 0 dataOffset[0] 0"
      ]
     },
     "execution_count": 2,
     "metadata": {},
     "output_type": "execute_result"
    }
   ],
   "source": [
    "ArrayList<Double> x = new ArrayList<>();\n",
    "ArrayList<Double> y = new ArrayList<>();\n",
    "ArrayList<DebugResult> resA = dbg.getResults(\"a\");\n",
    "ArrayList<Double> valA = new ArrayList<>();\n",
    "ArrayList<Double> lineA = new ArrayList<>();\n",
    "int sizeA = resA.size();\n",
    "for (int i = 0; i < sizeA; i++) {\n",
    "    DebugResult res = resA.get(i);\n",
    "    Location loc = res.getLocation();\n",
    "    double val = Double.parseDouble(res.getLatestValue().getValue());\n",
    "    double line = loc.getLineNumber();\n",
    "    valA.add(val);\n",
    "    lineA.add(line);\n",
    "}\n",
    "\n",
    "int resNextIndex = 0;\n",
    "double val = valA.get(resNextIndex);\n",
    "double lLine = lineA.get(resNextIndex++);\n",
    "double rLine = lineA.get(resNextIndex++);\n",
    "double xMin = 0.0;\n",
    "double xMax = 50.0;\n",
    "for (double i = lLine; i < xMax; i += 0.1) {\n",
    "    x.add(i);\n",
    "    if (i >= lLine && i < rLine) {\n",
    "        y.add(val);\n",
    "    } else if (i >= rLine) {\n",
    "        val = valA.get(resNextIndex-1);\n",
    "        lLine = rLine;\n",
    "        rLine = (resNextIndex < sizeA) ? lineA.get(resNextIndex++) : xMax;\n",
    "        y.add(val);\n",
    "    } else {\n",
    "        y.add(0.0);\n",
    "    }\n",
    "}\n",
    "XYChart chart = QuickChart.getChart(\"Sample\", \"x\", \"y\", \"a\", x, y);\n",
    "chart.getStyler().setXAxisMin(xMin);\n",
    "chart.getStyler().setXAxisMax(xMax);\n",
    "BitmapEncoder.getBufferedImage(chart);"
   ]
  },
  {
   "cell_type": "markdown",
   "metadata": {},
   "source": [
    "# Static Infomation Demo"
   ]
  },
  {
   "cell_type": "code",
   "execution_count": 15,
   "metadata": {},
   "outputs": [],
   "source": [
    "var sif = new StaticInfoFactory(\"debugspace\", \"sample\"); // set srcDir and binDir\n",
    "ClassInfo ci = sif.createClass(\"jisd.demo.HelloWorld\")"
   ]
  },
  {
   "cell_type": "code",
   "execution_count": 16,
   "metadata": {},
   "outputs": [
    {
     "data": {
      "text/plain": [
       "[helloTo]"
      ]
     },
     "execution_count": 16,
     "metadata": {},
     "output_type": "execute_result"
    }
   ],
   "source": [
    "ci.fieldNames()"
   ]
  },
  {
   "cell_type": "code",
   "execution_count": 17,
   "metadata": {},
   "outputs": [
    {
     "data": {
      "text/plain": [
       "[sayHello(), setHelloTo(java.lang.String), HelloWorld(java.lang.String), main(java.lang.String[])]"
      ]
     },
     "execution_count": 17,
     "metadata": {},
     "output_type": "execute_result"
    }
   ],
   "source": [
    "ci.methodNames()"
   ]
  },
  {
   "cell_type": "code",
   "execution_count": 18,
   "metadata": {},
   "outputs": [
    {
     "data": {
      "text/plain": [
       "this.helloTo"
      ]
     },
     "execution_count": 18,
     "metadata": {},
     "output_type": "execute_result"
    }
   ],
   "source": [
    "var fi = ci.field(\"helloTo\");\n",
    "fi.name()"
   ]
  },
  {
   "cell_type": "code",
   "execution_count": 19,
   "metadata": {},
   "outputs": [
    {
     "data": {
      "text/plain": [
       "[args, a, me, hello, this.helloTo]"
      ]
     },
     "execution_count": 19,
     "metadata": {},
     "output_type": "execute_result"
    }
   ],
   "source": [
    "var mi = ci.method(\"main(java.lang.String[])\");\n",
    "mi.localNames()"
   ]
  },
  {
   "cell_type": "code",
   "execution_count": 20,
   "metadata": {},
   "outputs": [],
   "source": [
    "var li = mi.local(\"a\")"
   ]
  },
  {
   "cell_type": "code",
   "execution_count": 21,
   "metadata": {},
   "outputs": [
    {
     "data": {
      "text/plain": [
       "[26, 27, 28, 29, 30, 31, 32]"
      ]
     },
     "execution_count": 21,
     "metadata": {},
     "output_type": "execute_result"
    }
   ],
   "source": [
    "li.canSet()"
   ]
  },
  {
   "cell_type": "markdown",
   "metadata": {},
   "source": [
    "# Execute External Program Demo"
   ]
  },
  {
   "cell_type": "markdown",
   "metadata": {},
   "source": [
    "#### Use %exec magic"
   ]
  },
  {
   "cell_type": "code",
   "execution_count": 22,
   "metadata": {},
   "outputs": [
    {
     "name": "stdout",
     "output_type": "stream",
     "text": [
      "\n",
      "Path                     \n",
      "----                     \n",
      "D:\\WorkSpace\\2020\\JISDLab\n"
     ]
    }
   ],
   "source": [
    "%exec powershell -Command pwd"
   ]
  },
  {
   "cell_type": "markdown",
   "metadata": {},
   "source": [
    "#### Use debug.Utility.exec()"
   ]
  },
  {
   "cell_type": "code",
   "execution_count": 23,
   "metadata": {},
   "outputs": [
    {
     "name": "stdout",
     "output_type": "stream",
     "text": [
      "\n",
      "Path                     \n",
      "----                     \n",
      "D:\\WorkSpace\\2020\\JISDLab\n",
      "\n",
      "\n"
     ]
    }
   ],
   "source": [
    "var res = exec(\"powershell -Command pwd\").get()"
   ]
  },
  {
   "cell_type": "code",
   "execution_count": 12,
   "metadata": {},
   "outputs": [
    {
     "data": {
      "text/plain": [
       "\r\n",
       "Path                     \r\n",
       "----                     \r\n",
       "D:\\WorkSpace\\2020\\JISDLab\r\n",
       "\r\n",
       "\r\n"
      ]
     },
     "execution_count": 12,
     "metadata": {},
     "output_type": "execute_result"
    }
   ],
   "source": [
    "res[0] // stdout"
   ]
  },
  {
   "cell_type": "code",
   "execution_count": 24,
   "metadata": {},
   "outputs": [
    {
     "data": {
      "text/plain": []
     },
     "execution_count": 24,
     "metadata": {},
     "output_type": "execute_result"
    }
   ],
   "source": [
    "res[1] // stderr"
   ]
  },
  {
   "cell_type": "code",
   "execution_count": 26,
   "metadata": {},
   "outputs": [
    {
     "data": {
      "text/plain": [
       "0"
      ]
     },
     "execution_count": 26,
     "metadata": {},
     "output_type": "execute_result"
    }
   ],
   "source": [
    "res[2] // exit code (String)"
   ]
  },
  {
   "cell_type": "code",
   "execution_count": null,
   "metadata": {},
   "outputs": [],
   "source": []
  }
 ],
 "metadata": {
  "kernelspec": {
   "display_name": "Java",
   "language": "java",
   "name": "java"
  },
  "language_info": {
   "codemirror_mode": "java",
   "file_extension": ".jshell",
   "mimetype": "text/x-java-source",
   "name": "Java",
   "pygments_lexer": "java",
   "version": "11.0.9.1+1-post-Debian-1deb10u2"
  }
 },
 "nbformat": 4,
 "nbformat_minor": 4
}
