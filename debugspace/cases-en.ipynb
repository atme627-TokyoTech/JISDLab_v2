{
 "cells": [
  {
   "cell_type": "markdown",
   "metadata": {},
   "source": [
    "# Case1: Contents of the HTTP request"
   ]
  },
  {
   "cell_type": "code",
   "execution_count": 36,
   "metadata": {},
   "outputs": [
    {
     "name": "stdout",
     "output_type": "stream",
     "text": [
      ">> Debugger Info: Try to connect to localhost:25432\n",
      ">> Debugger Info: Successflly connected to localhost:25432\n"
     ]
    }
   ],
   "source": [
    "var dbg = new Debugger(\"localhost\", 25432);  // Using JDI"
   ]
  },
  {
   "cell_type": "code",
   "execution_count": 37,
   "metadata": {},
   "outputs": [
    {
     "name": "stdout",
     "output_type": "stream",
     "text": [
      ">> Debugger Info: Debugger started.\n"
     ]
    }
   ],
   "source": [
    "dbg.run();\n",
    "Point p = dbg.stopAt(\"tomcatdemo.App\", 18).get(); // Stop at line 18"
   ]
  },
  {
   "cell_type": "markdown",
   "metadata": {},
   "source": [
    "Visit http://localhost:8080/TomcatDemo-0.0.1/home once from Google Chrome"
   ]
  },
  {
   "cell_type": "code",
   "execution_count": 21,
   "metadata": {},
   "outputs": [],
   "source": [
    "DebugResult dr = p.getResults().get(\"req\");\n",
    "var req = (ObjectInfo) dr.getLatestValue(); // Get the value of the variable req"
   ]
  },
  {
   "cell_type": "code",
   "execution_count": 22,
   "metadata": {},
   "outputs": [
    {
     "data": {
      "text/plain": [
       "return of getMethod=\"GET\"\n"
      ]
     },
     "execution_count": 22,
     "metadata": {},
     "output_type": "execute_result"
    }
   ],
   "source": [
    "req.invokeMethod(dbg.thread(), \"getMethod\");  // HTTP method"
   ]
  },
  {
   "cell_type": "code",
   "execution_count": 23,
   "metadata": {},
   "outputs": [
    {
     "data": {
      "text/plain": [
       "return of getRequestURI=\"/TomcatDemo-0.0.1/home\"\n"
      ]
     },
     "execution_count": 23,
     "metadata": {},
     "output_type": "execute_result"
    }
   ],
   "source": [
    "req.invokeMethod(dbg.thread(), \"getRequestURI\"); // Request URI"
   ]
  },
  {
   "cell_type": "code",
   "execution_count": 24,
   "metadata": {},
   "outputs": [
    {
     "data": {
      "text/plain": [
       "return of getHeader=\"Mozilla/5.0 (Windows NT 10.0; Win64; x64) AppleWebKit/537.36 (KHTML, like Gecko) Chrome/94.0.4606.71 Safari/537.36\"\n"
      ]
     },
     "execution_count": 24,
     "metadata": {},
     "output_type": "execute_result"
    }
   ],
   "source": [
    "req.invokeMethod(dbg.thread(), \"getHeader\", \"User-Agent\"); // User-Agent header"
   ]
  },
  {
   "cell_type": "markdown",
   "metadata": {},
   "source": [
    "# Case2: Identifying bottlenecks"
   ]
  },
  {
   "cell_type": "code",
   "execution_count": 1,
   "metadata": {},
   "outputs": [],
   "source": [
    "var dbg = new Debugger(\"localhost\", 39876, true); // Using ProbeJ"
   ]
  },
  {
   "cell_type": "markdown",
   "metadata": {},
   "source": [
    "### Set up observation points at the boundary of each section"
   ]
  },
  {
   "cell_type": "code",
   "execution_count": 2,
   "metadata": {},
   "outputs": [
    {
     "name": "stdout",
     "output_type": "stream",
     "text": [
      "Try to connect to localhost:39876\n",
      "Succeccfully connected to localhost:39876\n",
      ">> Debugger Info: Debugger started.\n"
     ]
    }
   ],
   "source": [
    "dbg.run();\n",
    "String[] vars = {\"noOfViews\"};\n",
    "List<Integer> lines = List.of(18, 20, 22, 24, 26);\n",
    "var points = lines.stream()\n",
    "                  .map(line -> dbg.watch(\"tomcatdemo.App\", line, vars).get())\n",
    "                  .collect(Collectors.toList());"
   ]
  },
  {
   "cell_type": "markdown",
   "metadata": {},
   "source": [
    "Visit http://localhost:8080/TomcatDemo-0.0.1/home once"
   ]
  },
  {
   "cell_type": "markdown",
   "metadata": {},
   "source": [
    "### Display of observation results"
   ]
  },
  {
   "cell_type": "code",
   "execution_count": 3,
   "metadata": {},
   "outputs": [
    {
     "name": "stdout",
     "output_type": "stream",
     "text": [
      "value\t:\ttimestamp\n",
      "0\t:\t2021-10-07T01:59:04.270\n",
      "value\t:\ttimestamp\n",
      "0\t:\t2021-10-07T01:59:04.583\n",
      "value\t:\ttimestamp\n",
      "0\t:\t2021-10-07T01:59:04.692\n",
      "value\t:\ttimestamp\n",
      "0\t:\t2021-10-07T01:59:09.703\n",
      "value\t:\ttimestamp\n",
      "0\t:\t2021-10-07T01:59:09.905\n"
     ]
    }
   ],
   "source": [
    "var values =  new ArrayList<ValueInfo>();\n",
    "points.forEach(p -> {\n",
    "  var dr = p.getResults().get(vars[0]);\n",
    "  values.add(dr.getLatestValue());\n",
    "  println(\"value\\t:\\ttimestamp\");\n",
    "  dr.getValues().forEach(val -> {\n",
    "    println(val.getValue()+\"\\t:\\t\"+val.getCreatedAt());\n",
    "  }); \n",
    "})"
   ]
  },
  {
   "cell_type": "markdown",
   "metadata": {},
   "source": [
    "### Visualization of processing time for each section"
   ]
  },
  {
   "cell_type": "code",
   "execution_count": 4,
   "metadata": {},
   "outputs": [
    {
     "name": "stdout",
     "output_type": "stream",
     "text": [
      "313.0\n",
      "109.0\n",
      "5011.0\n",
      "202.0\n"
     ]
    },
    {
     "data": {
      "image/png": "[encoded data removed]",
      "text/plain": [
       "BufferedImage@65c05c5b: type = 2 DirectColorModel: rmask=ff0000 gmask=ff00 bmask=ff amask=ff000000 IntegerInterleavedRaster: width = 400 height = 300 #Bands = 4 xOff = 0 yOff = 0 dataOffset[0] 0"
      ]
     },
     "execution_count": 4,
     "metadata": {},
     "output_type": "execute_result"
    }
   ],
   "source": [
    "import java.time.temporal.ChronoUnit;\n",
    "\n",
    "var x = new ArrayList<Double>();\n",
    "var y = new ArrayList<Double>();\n",
    "\n",
    "// Formatting data\n",
    "for (int i = 0; i < values.size()-1; i++) {\n",
    "  x.add((double) i+1);\n",
    "  y.add((double) (ChronoUnit.MILLIS.between(values.get(i).getCreatedAt(), values.get(i+1).getCreatedAt())));\n",
    "  println(y.get(i));\n",
    "}\n",
    "\n",
    "// Generating a diagram\n",
    "CategoryChart chart = new CategoryChartBuilder().width(400).height(300).title(\"Performance Histogram\")\n",
    "                                                .xAxisTitle(\"Section\").yAxisTitle(\"Time [msec]\").build();\n",
    "// Series\n",
    "chart.addSeries(\"/home\", x, y);\n",
    "BitmapEncoder.getBufferedImage(chart);"
   ]
  },
  {
   "cell_type": "markdown",
   "metadata": {},
   "source": [
    "### Survey results\n",
    "- The bottleneck is **Section 3** "
   ]
  },
  {
   "cell_type": "code",
   "execution_count": 35,
   "metadata": {},
   "outputs": [
    {
     "ename": "EvalException",
     "evalue": "connection is closed",
     "output_type": "error",
     "traceback": [
      "\u001b[1m\u001b[31m---------------------------------------------------------------------------\u001b[0m",
      "\u001b[1m\u001b[31mcom.sun.jdi.VMDisconnectedException: connection is closed\u001b[0m",
      "\u001b[1m\u001b[31m\tat jdk.jdi/com.sun.tools.jdi.TargetVM.send(TargetVM.java:299)\u001b[0m",
      "\u001b[1m\u001b[31m\tat jdk.jdi/com.sun.tools.jdi.VirtualMachineImpl.sendToTarget(VirtualMachineImpl.java:1141)\u001b[0m",
      "\u001b[1m\u001b[31m\tat jdk.jdi/com.sun.tools.jdi.PacketStream.send(PacketStream.java:77)\u001b[0m",
      "\u001b[1m\u001b[31m\tat jdk.jdi/com.sun.tools.jdi.JDWP$VirtualMachine$Dispose.enqueueCommand(JDWP.java:439)\u001b[0m",
      "\u001b[1m\u001b[31m\tat jdk.jdi/com.sun.tools.jdi.JDWP$VirtualMachine$Dispose.process(JDWP.java:430)\u001b[0m",
      "\u001b[1m\u001b[31m\tat jdk.jdi/com.sun.tools.jdi.VirtualMachineImpl.dispose(VirtualMachineImpl.java:606)\u001b[0m",
      "\u001b[1m\u001b[31m\tat jisd.debug.JDIManager.dispose(JDIManager.java:65)\u001b[0m",
      "\u001b[1m\u001b[31m\tat jisd.debug.JDIManager.shutdown(JDIManager.java:57)\u001b[0m",
      "\u001b[1m\u001b[31m\tat jisd.debug.Debugger.exit(Debugger.java:333)\u001b[0m",
      "\u001b[1m\u001b[31m\tat .(#67:1)\u001b[0m"
     ]
    }
   ],
   "source": [
    "dbg.exit();"
   ]
  },
  {
   "cell_type": "markdown",
   "metadata": {},
   "source": [
    "## Visualization by Grafana"
   ]
  },
  {
   "cell_type": "code",
   "execution_count": 39,
   "metadata": {},
   "outputs": [],
   "source": [
    "var esExporter = new ElasticsearchExporter(\"http://localhost\", 9200, \"sample\", \"09:00\");"
   ]
  },
  {
   "cell_type": "code",
   "execution_count": 40,
   "metadata": {},
   "outputs": [],
   "source": [
    "for (ValueInfo value: values) {\n",
    "  esExporter.update(value);  \n",
    "};"
   ]
  },
  {
   "cell_type": "code",
   "execution_count": 41,
   "metadata": {},
   "outputs": [],
   "source": [
    "esExporter.postJson();"
   ]
  },
  {
   "cell_type": "code",
   "execution_count": 18,
   "metadata": {},
   "outputs": [],
   "source": [
    "esExporter.stop();"
   ]
  },
  {
   "cell_type": "code",
   "execution_count": 16,
   "metadata": {},
   "outputs": [
    {
     "data": {
      "text/plain": [
       "0"
      ]
     },
     "execution_count": 16,
     "metadata": {},
     "output_type": "execute_result"
    }
   ],
   "source": [
    "import java.time.LocalDateTime;\n",
    "var vi = ValueInfoFactory.create(\"sample\", 0, null, \"1\", LocalDateTime.now());\n",
    "esExporter.update(vi);"
   ]
  },
  {
   "cell_type": "code",
   "execution_count": 38,
   "metadata": {},
   "outputs": [],
   "source": [
    "var values = p.getResults().entrySet().stream().map(e->e.getValue().getLatestValue()).collect(Collectors.toList());"
   ]
  },
  {
   "cell_type": "code",
   "execution_count": null,
   "metadata": {},
   "outputs": [],
   "source": []
  }
 ],
 "metadata": {
  "kernelspec": {
   "display_name": "Java",
   "language": "java",
   "name": "java"
  },
  "language_info": {
   "codemirror_mode": "java",
   "file_extension": ".jshell",
   "mimetype": "text/x-java-source",
   "name": "Java",
   "pygments_lexer": "java",
   "version": "11.0.8+10-LTS"
  }
 },
 "nbformat": 4,
 "nbformat_minor": 4
}
